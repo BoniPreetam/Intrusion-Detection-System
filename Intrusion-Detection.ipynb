{
 "cells": [
  {
   "cell_type": "code",
   "execution_count": 1,
   "id": "41f45903",
   "metadata": {},
   "outputs": [],
   "source": [
    "from sklearn.metrics import accuracy_score # for calculating accuracy of model\n",
    "from sklearn.model_selection import train_test_split # for splitting the dataset for training and testing\n",
    "from sklearn.metrics import classification_report # for generating a classification report of model\n",
    "import pickle # saving and loading trained model\n",
    "from os import path\n",
    "import numpy as np\n",
    "import pandas as pd\n",
    "import matplotlib.pyplot as plt\n",
    "from sklearn.svm import SVC"
   ]
  },
  {
   "cell_type": "code",
   "execution_count": 3,
   "id": "c33145eb",
   "metadata": {},
   "outputs": [],
   "source": [
    "bin_data = pd.read_csv(r\"C:\\Users\\bonik\\Downloads\\Network-Intrusion-Detection-Using-Machine-Learning-master\\Network-Intrusion-Detection-Using-Machine-Learning-master\\datasets\\bin_data.csv\")\n",
    "bin_data.drop(bin_data.columns[0],axis=1,inplace=True)\n",
    "multi_data = pd.read_csv(r\"C:\\Users\\bonik\\Downloads\\Network-Intrusion-Detection-Using-Machine-Learning-master\\Network-Intrusion-Detection-Using-Machine-Learning-master\\datasets\\multi_data.csv\")\n",
    "multi_data.drop(multi_data.columns[0],axis=1,inplace=True)\n",
    "le1_classes_ = np.load(r\"C:\\Users\\bonik\\Downloads\\Network-Intrusion-Detection-Using-Machine-Learning-master\\Network-Intrusion-Detection-Using-Machine-Learning-master\\labels\\le1_classes.npy\",allow_pickle=True)\n",
    "le2_classes_ = np.load(r\"C:\\Users\\bonik\\Downloads\\Network-Intrusion-Detection-Using-Machine-Learning-master\\Network-Intrusion-Detection-Using-Machine-Learning-master\\labels\\le2_classes.npy\",allow_pickle=True)"
   ]
  },
  {
   "cell_type": "code",
   "execution_count": 5,
   "id": "fbb24381",
   "metadata": {},
   "outputs": [],
   "source": [
    "X = bin_data.iloc[:,0:93].to_numpy() # dataset excluding target attribute (encoded, one-hot-encoded,original)\n",
    "Y = bin_data['intrusion']"
   ]
  },
  {
   "cell_type": "code",
   "execution_count": 7,
   "id": "92f53102",
   "metadata": {},
   "outputs": [],
   "source": [
    "X_train, X_test, y_train, y_test = train_test_split(X,Y, test_size=0.25, random_state=42) "
   ]
  },
  {
   "cell_type": "code",
   "execution_count": 9,
   "id": "cecc7838",
   "metadata": {},
   "outputs": [
    {
     "data": {
      "text/html": [
       "<style>#sk-container-id-1 {color: black;}#sk-container-id-1 pre{padding: 0;}#sk-container-id-1 div.sk-toggleable {background-color: white;}#sk-container-id-1 label.sk-toggleable__label {cursor: pointer;display: block;width: 100%;margin-bottom: 0;padding: 0.3em;box-sizing: border-box;text-align: center;}#sk-container-id-1 label.sk-toggleable__label-arrow:before {content: \"▸\";float: left;margin-right: 0.25em;color: #696969;}#sk-container-id-1 label.sk-toggleable__label-arrow:hover:before {color: black;}#sk-container-id-1 div.sk-estimator:hover label.sk-toggleable__label-arrow:before {color: black;}#sk-container-id-1 div.sk-toggleable__content {max-height: 0;max-width: 0;overflow: hidden;text-align: left;background-color: #f0f8ff;}#sk-container-id-1 div.sk-toggleable__content pre {margin: 0.2em;color: black;border-radius: 0.25em;background-color: #f0f8ff;}#sk-container-id-1 input.sk-toggleable__control:checked~div.sk-toggleable__content {max-height: 200px;max-width: 100%;overflow: auto;}#sk-container-id-1 input.sk-toggleable__control:checked~label.sk-toggleable__label-arrow:before {content: \"▾\";}#sk-container-id-1 div.sk-estimator input.sk-toggleable__control:checked~label.sk-toggleable__label {background-color: #d4ebff;}#sk-container-id-1 div.sk-label input.sk-toggleable__control:checked~label.sk-toggleable__label {background-color: #d4ebff;}#sk-container-id-1 input.sk-hidden--visually {border: 0;clip: rect(1px 1px 1px 1px);clip: rect(1px, 1px, 1px, 1px);height: 1px;margin: -1px;overflow: hidden;padding: 0;position: absolute;width: 1px;}#sk-container-id-1 div.sk-estimator {font-family: monospace;background-color: #f0f8ff;border: 1px dotted black;border-radius: 0.25em;box-sizing: border-box;margin-bottom: 0.5em;}#sk-container-id-1 div.sk-estimator:hover {background-color: #d4ebff;}#sk-container-id-1 div.sk-parallel-item::after {content: \"\";width: 100%;border-bottom: 1px solid gray;flex-grow: 1;}#sk-container-id-1 div.sk-label:hover label.sk-toggleable__label {background-color: #d4ebff;}#sk-container-id-1 div.sk-serial::before {content: \"\";position: absolute;border-left: 1px solid gray;box-sizing: border-box;top: 0;bottom: 0;left: 50%;z-index: 0;}#sk-container-id-1 div.sk-serial {display: flex;flex-direction: column;align-items: center;background-color: white;padding-right: 0.2em;padding-left: 0.2em;position: relative;}#sk-container-id-1 div.sk-item {position: relative;z-index: 1;}#sk-container-id-1 div.sk-parallel {display: flex;align-items: stretch;justify-content: center;background-color: white;position: relative;}#sk-container-id-1 div.sk-item::before, #sk-container-id-1 div.sk-parallel-item::before {content: \"\";position: absolute;border-left: 1px solid gray;box-sizing: border-box;top: 0;bottom: 0;left: 50%;z-index: -1;}#sk-container-id-1 div.sk-parallel-item {display: flex;flex-direction: column;z-index: 1;position: relative;background-color: white;}#sk-container-id-1 div.sk-parallel-item:first-child::after {align-self: flex-end;width: 50%;}#sk-container-id-1 div.sk-parallel-item:last-child::after {align-self: flex-start;width: 50%;}#sk-container-id-1 div.sk-parallel-item:only-child::after {width: 0;}#sk-container-id-1 div.sk-dashed-wrapped {border: 1px dashed gray;margin: 0 0.4em 0.5em 0.4em;box-sizing: border-box;padding-bottom: 0.4em;background-color: white;}#sk-container-id-1 div.sk-label label {font-family: monospace;font-weight: bold;display: inline-block;line-height: 1.2em;}#sk-container-id-1 div.sk-label-container {text-align: center;}#sk-container-id-1 div.sk-container {/* jupyter's `normalize.less` sets `[hidden] { display: none; }` but bootstrap.min.css set `[hidden] { display: none !important; }` so we also need the `!important` here to be able to override the default hidden behavior on the sphinx rendered scikit-learn.org. See: https://github.com/scikit-learn/scikit-learn/issues/21755 */display: inline-block !important;position: relative;}#sk-container-id-1 div.sk-text-repr-fallback {display: none;}</style><div id=\"sk-container-id-1\" class=\"sk-top-container\"><div class=\"sk-text-repr-fallback\"><pre>SVC(gamma=&#x27;auto&#x27;, kernel=&#x27;linear&#x27;)</pre><b>In a Jupyter environment, please rerun this cell to show the HTML representation or trust the notebook. <br />On GitHub, the HTML representation is unable to render, please try loading this page with nbviewer.org.</b></div><div class=\"sk-container\" hidden><div class=\"sk-item\"><div class=\"sk-estimator sk-toggleable\"><input class=\"sk-toggleable__control sk-hidden--visually\" id=\"sk-estimator-id-1\" type=\"checkbox\" checked><label for=\"sk-estimator-id-1\" class=\"sk-toggleable__label sk-toggleable__label-arrow\">SVC</label><div class=\"sk-toggleable__content\"><pre>SVC(gamma=&#x27;auto&#x27;, kernel=&#x27;linear&#x27;)</pre></div></div></div></div></div>"
      ],
      "text/plain": [
       "SVC(gamma='auto', kernel='linear')"
      ]
     },
     "execution_count": 9,
     "metadata": {},
     "output_type": "execute_result"
    }
   ],
   "source": [
    "lsvm = SVC(kernel='linear',gamma='auto') \n",
    "lsvm.fit(X_train,y_train) "
   ]
  },
  {
   "cell_type": "code",
   "execution_count": 11,
   "id": "e8509c31",
   "metadata": {},
   "outputs": [],
   "source": [
    "pkl_filename = r'C:\\Users\\bonik\\Downloads\\Network-Intrusion-Detection-Using-Machine-Learning-master\\Network-Intrusion-Detection-Using-Machine-Learning-master\\models\\lsvm_binary.pkl'\n",
    "if (not path.isfile(pkl_filename)):\n",
    "  # saving the trained model to disk\n",
    "  with open(pkl_filename, 'wb') as file:\n",
    "    pickle.dump(lsvm, file)\n",
    "  print(\"Saved model to disk\")\n",
    "  # loading the trained model from disk\n",
    "  with open(pkl_filename, 'rb') as file:\n",
    "    lsvm = pickle.load(file)\n",
    "  print(\"Loaded model from disk\") "
   ]
  },
  {
   "cell_type": "code",
   "execution_count": 13,
   "id": "db9410c9",
   "metadata": {},
   "outputs": [
    {
     "name": "stdout",
     "output_type": "stream",
     "text": [
      "LSVM-Classifier Binary Set-Accuracy is  96.69778370483266\n"
     ]
    }
   ],
   "source": [
    "y_pred = lsvm.predict(X_test) # predicting target attribute on testing dataset\n",
    "ac = accuracy_score(y_test, y_pred)*100 # calculating accuracy of predicted data\n",
    "print(\"LSVM-Classifier Binary Set-Accuracy is \", ac)\n"
   ]
  },
  {
   "cell_type": "code",
   "execution_count": 15,
   "id": "6d7473f3",
   "metadata": {},
   "outputs": [
    {
     "name": "stdout",
     "output_type": "stream",
     "text": [
      "              precision    recall  f1-score   support\n",
      "\n",
      "    abnormal       0.97      0.96      0.96     14720\n",
      "      normal       0.96      0.97      0.97     16774\n",
      "\n",
      "    accuracy                           0.97     31494\n",
      "   macro avg       0.97      0.97      0.97     31494\n",
      "weighted avg       0.97      0.97      0.97     31494\n",
      "\n"
     ]
    }
   ],
   "source": [
    "print(classification_report(y_test, y_pred,target_names=le1_classes_))"
   ]
  },
  {
   "cell_type": "markdown",
   "id": "37b2b826",
   "metadata": {},
   "source": [
    "quadratic svm"
   ]
  },
  {
   "cell_type": "code",
   "execution_count": 18,
   "id": "03493d47",
   "metadata": {},
   "outputs": [
    {
     "data": {
      "text/html": [
       "<style>#sk-container-id-2 {color: black;}#sk-container-id-2 pre{padding: 0;}#sk-container-id-2 div.sk-toggleable {background-color: white;}#sk-container-id-2 label.sk-toggleable__label {cursor: pointer;display: block;width: 100%;margin-bottom: 0;padding: 0.3em;box-sizing: border-box;text-align: center;}#sk-container-id-2 label.sk-toggleable__label-arrow:before {content: \"▸\";float: left;margin-right: 0.25em;color: #696969;}#sk-container-id-2 label.sk-toggleable__label-arrow:hover:before {color: black;}#sk-container-id-2 div.sk-estimator:hover label.sk-toggleable__label-arrow:before {color: black;}#sk-container-id-2 div.sk-toggleable__content {max-height: 0;max-width: 0;overflow: hidden;text-align: left;background-color: #f0f8ff;}#sk-container-id-2 div.sk-toggleable__content pre {margin: 0.2em;color: black;border-radius: 0.25em;background-color: #f0f8ff;}#sk-container-id-2 input.sk-toggleable__control:checked~div.sk-toggleable__content {max-height: 200px;max-width: 100%;overflow: auto;}#sk-container-id-2 input.sk-toggleable__control:checked~label.sk-toggleable__label-arrow:before {content: \"▾\";}#sk-container-id-2 div.sk-estimator input.sk-toggleable__control:checked~label.sk-toggleable__label {background-color: #d4ebff;}#sk-container-id-2 div.sk-label input.sk-toggleable__control:checked~label.sk-toggleable__label {background-color: #d4ebff;}#sk-container-id-2 input.sk-hidden--visually {border: 0;clip: rect(1px 1px 1px 1px);clip: rect(1px, 1px, 1px, 1px);height: 1px;margin: -1px;overflow: hidden;padding: 0;position: absolute;width: 1px;}#sk-container-id-2 div.sk-estimator {font-family: monospace;background-color: #f0f8ff;border: 1px dotted black;border-radius: 0.25em;box-sizing: border-box;margin-bottom: 0.5em;}#sk-container-id-2 div.sk-estimator:hover {background-color: #d4ebff;}#sk-container-id-2 div.sk-parallel-item::after {content: \"\";width: 100%;border-bottom: 1px solid gray;flex-grow: 1;}#sk-container-id-2 div.sk-label:hover label.sk-toggleable__label {background-color: #d4ebff;}#sk-container-id-2 div.sk-serial::before {content: \"\";position: absolute;border-left: 1px solid gray;box-sizing: border-box;top: 0;bottom: 0;left: 50%;z-index: 0;}#sk-container-id-2 div.sk-serial {display: flex;flex-direction: column;align-items: center;background-color: white;padding-right: 0.2em;padding-left: 0.2em;position: relative;}#sk-container-id-2 div.sk-item {position: relative;z-index: 1;}#sk-container-id-2 div.sk-parallel {display: flex;align-items: stretch;justify-content: center;background-color: white;position: relative;}#sk-container-id-2 div.sk-item::before, #sk-container-id-2 div.sk-parallel-item::before {content: \"\";position: absolute;border-left: 1px solid gray;box-sizing: border-box;top: 0;bottom: 0;left: 50%;z-index: -1;}#sk-container-id-2 div.sk-parallel-item {display: flex;flex-direction: column;z-index: 1;position: relative;background-color: white;}#sk-container-id-2 div.sk-parallel-item:first-child::after {align-self: flex-end;width: 50%;}#sk-container-id-2 div.sk-parallel-item:last-child::after {align-self: flex-start;width: 50%;}#sk-container-id-2 div.sk-parallel-item:only-child::after {width: 0;}#sk-container-id-2 div.sk-dashed-wrapped {border: 1px dashed gray;margin: 0 0.4em 0.5em 0.4em;box-sizing: border-box;padding-bottom: 0.4em;background-color: white;}#sk-container-id-2 div.sk-label label {font-family: monospace;font-weight: bold;display: inline-block;line-height: 1.2em;}#sk-container-id-2 div.sk-label-container {text-align: center;}#sk-container-id-2 div.sk-container {/* jupyter's `normalize.less` sets `[hidden] { display: none; }` but bootstrap.min.css set `[hidden] { display: none !important; }` so we also need the `!important` here to be able to override the default hidden behavior on the sphinx rendered scikit-learn.org. See: https://github.com/scikit-learn/scikit-learn/issues/21755 */display: inline-block !important;position: relative;}#sk-container-id-2 div.sk-text-repr-fallback {display: none;}</style><div id=\"sk-container-id-2\" class=\"sk-top-container\"><div class=\"sk-text-repr-fallback\"><pre>SVC(gamma=&#x27;auto&#x27;, kernel=&#x27;poly&#x27;)</pre><b>In a Jupyter environment, please rerun this cell to show the HTML representation or trust the notebook. <br />On GitHub, the HTML representation is unable to render, please try loading this page with nbviewer.org.</b></div><div class=\"sk-container\" hidden><div class=\"sk-item\"><div class=\"sk-estimator sk-toggleable\"><input class=\"sk-toggleable__control sk-hidden--visually\" id=\"sk-estimator-id-2\" type=\"checkbox\" checked><label for=\"sk-estimator-id-2\" class=\"sk-toggleable__label sk-toggleable__label-arrow\">SVC</label><div class=\"sk-toggleable__content\"><pre>SVC(gamma=&#x27;auto&#x27;, kernel=&#x27;poly&#x27;)</pre></div></div></div></div></div>"
      ],
      "text/plain": [
       "SVC(gamma='auto', kernel='poly')"
      ]
     },
     "execution_count": 18,
     "metadata": {},
     "output_type": "execute_result"
    }
   ],
   "source": [
    "qsvm=SVC(kernel='poly',gamma='auto') # using kernal as polynomial for quadratic svm\n",
    "qsvm.fit(X_train,y_train)"
   ]
  },
  {
   "cell_type": "code",
   "execution_count": 20,
   "id": "8014b548",
   "metadata": {},
   "outputs": [],
   "source": [
    "pkl_filename = r'C:\\Users\\bonik\\Downloads\\Network-Intrusion-Detection-Using-Machine-Learning-master\\Network-Intrusion-Detection-Using-Machine-Learning-master\\models\\qsvm_binary.pkl'\n",
    "if (not path.isfile(pkl_filename)):\n",
    "  # saving the trained model to disk \n",
    "  with open(pkl_filename, 'wb') as file:\n",
    "    pickle.dump(qsvm, file)\n",
    "  print(\"Saved model to disk\")\n",
    "  # loading the trained model from disk\n",
    "  with open(pkl_filename, 'rb') as file:\n",
    "    qsvm = pickle.load(file)\n",
    "  print(\"Loaded model from disk\")"
   ]
  },
  {
   "cell_type": "code",
   "execution_count": 22,
   "id": "f3b84275",
   "metadata": {},
   "outputs": [
    {
     "name": "stdout",
     "output_type": "stream",
     "text": [
      "QSVM-Classifier Binary Set-Accuracy is  95.71029402425859\n"
     ]
    }
   ],
   "source": [
    "y_pred=qsvm.predict(X_test) # predicting target attribute on testing dataset\n",
    "ac=accuracy_score(y_test, y_pred)*100 # calculating accuracy of predicted data\n",
    "print(\"QSVM-Classifier Binary Set-Accuracy is \", ac)"
   ]
  },
  {
   "cell_type": "code",
   "execution_count": 24,
   "id": "e0071b47",
   "metadata": {},
   "outputs": [
    {
     "name": "stdout",
     "output_type": "stream",
     "text": [
      "              precision    recall  f1-score   support\n",
      "\n",
      "    abnormal       0.99      0.92      0.95     14720\n",
      "      normal       0.93      0.99      0.96     16774\n",
      "\n",
      "    accuracy                           0.96     31494\n",
      "   macro avg       0.96      0.95      0.96     31494\n",
      "weighted avg       0.96      0.96      0.96     31494\n",
      "\n"
     ]
    }
   ],
   "source": [
    "print(classification_report(y_test, y_pred,target_names=le1_classes_))"
   ]
  },
  {
   "cell_type": "markdown",
   "id": "739a5254",
   "metadata": {},
   "source": [
    "knn"
   ]
  },
  {
   "cell_type": "code",
   "execution_count": 26,
   "id": "cfee5c05",
   "metadata": {},
   "outputs": [],
   "source": [
    "from sklearn.neighbors import KNeighborsClassifier"
   ]
  },
  {
   "cell_type": "code",
   "execution_count": 28,
   "id": "473c4f69",
   "metadata": {},
   "outputs": [
    {
     "data": {
      "text/html": [
       "<style>#sk-container-id-3 {color: black;}#sk-container-id-3 pre{padding: 0;}#sk-container-id-3 div.sk-toggleable {background-color: white;}#sk-container-id-3 label.sk-toggleable__label {cursor: pointer;display: block;width: 100%;margin-bottom: 0;padding: 0.3em;box-sizing: border-box;text-align: center;}#sk-container-id-3 label.sk-toggleable__label-arrow:before {content: \"▸\";float: left;margin-right: 0.25em;color: #696969;}#sk-container-id-3 label.sk-toggleable__label-arrow:hover:before {color: black;}#sk-container-id-3 div.sk-estimator:hover label.sk-toggleable__label-arrow:before {color: black;}#sk-container-id-3 div.sk-toggleable__content {max-height: 0;max-width: 0;overflow: hidden;text-align: left;background-color: #f0f8ff;}#sk-container-id-3 div.sk-toggleable__content pre {margin: 0.2em;color: black;border-radius: 0.25em;background-color: #f0f8ff;}#sk-container-id-3 input.sk-toggleable__control:checked~div.sk-toggleable__content {max-height: 200px;max-width: 100%;overflow: auto;}#sk-container-id-3 input.sk-toggleable__control:checked~label.sk-toggleable__label-arrow:before {content: \"▾\";}#sk-container-id-3 div.sk-estimator input.sk-toggleable__control:checked~label.sk-toggleable__label {background-color: #d4ebff;}#sk-container-id-3 div.sk-label input.sk-toggleable__control:checked~label.sk-toggleable__label {background-color: #d4ebff;}#sk-container-id-3 input.sk-hidden--visually {border: 0;clip: rect(1px 1px 1px 1px);clip: rect(1px, 1px, 1px, 1px);height: 1px;margin: -1px;overflow: hidden;padding: 0;position: absolute;width: 1px;}#sk-container-id-3 div.sk-estimator {font-family: monospace;background-color: #f0f8ff;border: 1px dotted black;border-radius: 0.25em;box-sizing: border-box;margin-bottom: 0.5em;}#sk-container-id-3 div.sk-estimator:hover {background-color: #d4ebff;}#sk-container-id-3 div.sk-parallel-item::after {content: \"\";width: 100%;border-bottom: 1px solid gray;flex-grow: 1;}#sk-container-id-3 div.sk-label:hover label.sk-toggleable__label {background-color: #d4ebff;}#sk-container-id-3 div.sk-serial::before {content: \"\";position: absolute;border-left: 1px solid gray;box-sizing: border-box;top: 0;bottom: 0;left: 50%;z-index: 0;}#sk-container-id-3 div.sk-serial {display: flex;flex-direction: column;align-items: center;background-color: white;padding-right: 0.2em;padding-left: 0.2em;position: relative;}#sk-container-id-3 div.sk-item {position: relative;z-index: 1;}#sk-container-id-3 div.sk-parallel {display: flex;align-items: stretch;justify-content: center;background-color: white;position: relative;}#sk-container-id-3 div.sk-item::before, #sk-container-id-3 div.sk-parallel-item::before {content: \"\";position: absolute;border-left: 1px solid gray;box-sizing: border-box;top: 0;bottom: 0;left: 50%;z-index: -1;}#sk-container-id-3 div.sk-parallel-item {display: flex;flex-direction: column;z-index: 1;position: relative;background-color: white;}#sk-container-id-3 div.sk-parallel-item:first-child::after {align-self: flex-end;width: 50%;}#sk-container-id-3 div.sk-parallel-item:last-child::after {align-self: flex-start;width: 50%;}#sk-container-id-3 div.sk-parallel-item:only-child::after {width: 0;}#sk-container-id-3 div.sk-dashed-wrapped {border: 1px dashed gray;margin: 0 0.4em 0.5em 0.4em;box-sizing: border-box;padding-bottom: 0.4em;background-color: white;}#sk-container-id-3 div.sk-label label {font-family: monospace;font-weight: bold;display: inline-block;line-height: 1.2em;}#sk-container-id-3 div.sk-label-container {text-align: center;}#sk-container-id-3 div.sk-container {/* jupyter's `normalize.less` sets `[hidden] { display: none; }` but bootstrap.min.css set `[hidden] { display: none !important; }` so we also need the `!important` here to be able to override the default hidden behavior on the sphinx rendered scikit-learn.org. See: https://github.com/scikit-learn/scikit-learn/issues/21755 */display: inline-block !important;position: relative;}#sk-container-id-3 div.sk-text-repr-fallback {display: none;}</style><div id=\"sk-container-id-3\" class=\"sk-top-container\"><div class=\"sk-text-repr-fallback\"><pre>KNeighborsClassifier()</pre><b>In a Jupyter environment, please rerun this cell to show the HTML representation or trust the notebook. <br />On GitHub, the HTML representation is unable to render, please try loading this page with nbviewer.org.</b></div><div class=\"sk-container\" hidden><div class=\"sk-item\"><div class=\"sk-estimator sk-toggleable\"><input class=\"sk-toggleable__control sk-hidden--visually\" id=\"sk-estimator-id-3\" type=\"checkbox\" checked><label for=\"sk-estimator-id-3\" class=\"sk-toggleable__label sk-toggleable__label-arrow\">KNeighborsClassifier</label><div class=\"sk-toggleable__content\"><pre>KNeighborsClassifier()</pre></div></div></div></div></div>"
      ],
      "text/plain": [
       "KNeighborsClassifier()"
      ]
     },
     "execution_count": 28,
     "metadata": {},
     "output_type": "execute_result"
    }
   ],
   "source": [
    "knn=KNeighborsClassifier(n_neighbors=5) # creating model for 5 neighbors\n",
    "knn.fit(X_train,y_train)"
   ]
  },
  {
   "cell_type": "code",
   "execution_count": 30,
   "id": "2d2b0886",
   "metadata": {},
   "outputs": [],
   "source": [
    "pkl_filename = r'C:\\Users\\bonik\\Downloads\\Network-Intrusion-Detection-Using-Machine-Learning-master\\Network-Intrusion-Detection-Using-Machine-Learning-master\\models\\knn_binary.pkl'\n",
    "if (not path.isfile(pkl_filename)):\n",
    "  # saving the trained model to disk\n",
    "  with open(pkl_filename, 'wb') as file:\n",
    "    pickle.dump(knn, file)\n",
    "  print(\"Saved model to disk\")\n",
    "  # loading the trained model from disk\n",
    "  with open(pkl_filename, 'rb') as file:\n",
    "    knn = pickle.load(file)\n",
    "  print(\"Loaded model from disk\")"
   ]
  },
  {
   "cell_type": "code",
   "execution_count": 32,
   "id": "f6f585d6",
   "metadata": {},
   "outputs": [
    {
     "name": "stdout",
     "output_type": "stream",
     "text": [
      "KNN-Classifier Binary Set-Accuracy is  98.55210516288817\n"
     ]
    }
   ],
   "source": [
    "y_pred=knn.predict(X_test) # predicting target attribute on testing dataset\n",
    "ac=accuracy_score(y_test, y_pred)*100 # calculating accuracy of predicted data\n",
    "print(\"KNN-Classifier Binary Set-Accuracy is \", ac)"
   ]
  },
  {
   "cell_type": "code",
   "execution_count": 34,
   "id": "a2540e98",
   "metadata": {},
   "outputs": [
    {
     "name": "stdout",
     "output_type": "stream",
     "text": [
      "              precision    recall  f1-score   support\n",
      "\n",
      "    abnormal       0.99      0.98      0.98     14720\n",
      "      normal       0.99      0.99      0.99     16774\n",
      "\n",
      "    accuracy                           0.99     31494\n",
      "   macro avg       0.99      0.99      0.99     31494\n",
      "weighted avg       0.99      0.99      0.99     31494\n",
      "\n"
     ]
    }
   ],
   "source": [
    "print(classification_report(y_test, y_pred,target_names=le1_classes_))"
   ]
  },
  {
   "cell_type": "markdown",
   "id": "899b6dc4",
   "metadata": {},
   "source": [
    "IDA"
   ]
  },
  {
   "cell_type": "code",
   "execution_count": 36,
   "id": "c4699e3a",
   "metadata": {},
   "outputs": [],
   "source": [
    "from sklearn.discriminant_analysis import LinearDiscriminantAnalysis"
   ]
  },
  {
   "cell_type": "code",
   "execution_count": 38,
   "id": "c75cdabd",
   "metadata": {},
   "outputs": [
    {
     "data": {
      "text/html": [
       "<style>#sk-container-id-4 {color: black;}#sk-container-id-4 pre{padding: 0;}#sk-container-id-4 div.sk-toggleable {background-color: white;}#sk-container-id-4 label.sk-toggleable__label {cursor: pointer;display: block;width: 100%;margin-bottom: 0;padding: 0.3em;box-sizing: border-box;text-align: center;}#sk-container-id-4 label.sk-toggleable__label-arrow:before {content: \"▸\";float: left;margin-right: 0.25em;color: #696969;}#sk-container-id-4 label.sk-toggleable__label-arrow:hover:before {color: black;}#sk-container-id-4 div.sk-estimator:hover label.sk-toggleable__label-arrow:before {color: black;}#sk-container-id-4 div.sk-toggleable__content {max-height: 0;max-width: 0;overflow: hidden;text-align: left;background-color: #f0f8ff;}#sk-container-id-4 div.sk-toggleable__content pre {margin: 0.2em;color: black;border-radius: 0.25em;background-color: #f0f8ff;}#sk-container-id-4 input.sk-toggleable__control:checked~div.sk-toggleable__content {max-height: 200px;max-width: 100%;overflow: auto;}#sk-container-id-4 input.sk-toggleable__control:checked~label.sk-toggleable__label-arrow:before {content: \"▾\";}#sk-container-id-4 div.sk-estimator input.sk-toggleable__control:checked~label.sk-toggleable__label {background-color: #d4ebff;}#sk-container-id-4 div.sk-label input.sk-toggleable__control:checked~label.sk-toggleable__label {background-color: #d4ebff;}#sk-container-id-4 input.sk-hidden--visually {border: 0;clip: rect(1px 1px 1px 1px);clip: rect(1px, 1px, 1px, 1px);height: 1px;margin: -1px;overflow: hidden;padding: 0;position: absolute;width: 1px;}#sk-container-id-4 div.sk-estimator {font-family: monospace;background-color: #f0f8ff;border: 1px dotted black;border-radius: 0.25em;box-sizing: border-box;margin-bottom: 0.5em;}#sk-container-id-4 div.sk-estimator:hover {background-color: #d4ebff;}#sk-container-id-4 div.sk-parallel-item::after {content: \"\";width: 100%;border-bottom: 1px solid gray;flex-grow: 1;}#sk-container-id-4 div.sk-label:hover label.sk-toggleable__label {background-color: #d4ebff;}#sk-container-id-4 div.sk-serial::before {content: \"\";position: absolute;border-left: 1px solid gray;box-sizing: border-box;top: 0;bottom: 0;left: 50%;z-index: 0;}#sk-container-id-4 div.sk-serial {display: flex;flex-direction: column;align-items: center;background-color: white;padding-right: 0.2em;padding-left: 0.2em;position: relative;}#sk-container-id-4 div.sk-item {position: relative;z-index: 1;}#sk-container-id-4 div.sk-parallel {display: flex;align-items: stretch;justify-content: center;background-color: white;position: relative;}#sk-container-id-4 div.sk-item::before, #sk-container-id-4 div.sk-parallel-item::before {content: \"\";position: absolute;border-left: 1px solid gray;box-sizing: border-box;top: 0;bottom: 0;left: 50%;z-index: -1;}#sk-container-id-4 div.sk-parallel-item {display: flex;flex-direction: column;z-index: 1;position: relative;background-color: white;}#sk-container-id-4 div.sk-parallel-item:first-child::after {align-self: flex-end;width: 50%;}#sk-container-id-4 div.sk-parallel-item:last-child::after {align-self: flex-start;width: 50%;}#sk-container-id-4 div.sk-parallel-item:only-child::after {width: 0;}#sk-container-id-4 div.sk-dashed-wrapped {border: 1px dashed gray;margin: 0 0.4em 0.5em 0.4em;box-sizing: border-box;padding-bottom: 0.4em;background-color: white;}#sk-container-id-4 div.sk-label label {font-family: monospace;font-weight: bold;display: inline-block;line-height: 1.2em;}#sk-container-id-4 div.sk-label-container {text-align: center;}#sk-container-id-4 div.sk-container {/* jupyter's `normalize.less` sets `[hidden] { display: none; }` but bootstrap.min.css set `[hidden] { display: none !important; }` so we also need the `!important` here to be able to override the default hidden behavior on the sphinx rendered scikit-learn.org. See: https://github.com/scikit-learn/scikit-learn/issues/21755 */display: inline-block !important;position: relative;}#sk-container-id-4 div.sk-text-repr-fallback {display: none;}</style><div id=\"sk-container-id-4\" class=\"sk-top-container\"><div class=\"sk-text-repr-fallback\"><pre>LinearDiscriminantAnalysis()</pre><b>In a Jupyter environment, please rerun this cell to show the HTML representation or trust the notebook. <br />On GitHub, the HTML representation is unable to render, please try loading this page with nbviewer.org.</b></div><div class=\"sk-container\" hidden><div class=\"sk-item\"><div class=\"sk-estimator sk-toggleable\"><input class=\"sk-toggleable__control sk-hidden--visually\" id=\"sk-estimator-id-4\" type=\"checkbox\" checked><label for=\"sk-estimator-id-4\" class=\"sk-toggleable__label sk-toggleable__label-arrow\">LinearDiscriminantAnalysis</label><div class=\"sk-toggleable__content\"><pre>LinearDiscriminantAnalysis()</pre></div></div></div></div></div>"
      ],
      "text/plain": [
       "LinearDiscriminantAnalysis()"
      ]
     },
     "execution_count": 38,
     "metadata": {},
     "output_type": "execute_result"
    }
   ],
   "source": [
    "lda = LinearDiscriminantAnalysis() \n",
    "lda.fit(X_train, y_train)"
   ]
  },
  {
   "cell_type": "code",
   "execution_count": 40,
   "id": "0a2bd318",
   "metadata": {},
   "outputs": [],
   "source": [
    "pkl_filename = r'C:\\Users\\bonik\\Downloads\\Network-Intrusion-Detection-Using-Machine-Learning-master\\Network-Intrusion-Detection-Using-Machine-Learning-master\\models\\lda_binary.pkl'\n",
    "if (not path.isfile(pkl_filename)):\n",
    "  # saving trained model to disk\n",
    "  with open(pkl_filename, 'wb') as file:\n",
    "    pickle.dump(lda, file)\n",
    "  print(\"Saved model to disk\")\n",
    "  # loading trained model from disk\n",
    "  with open(pkl_filename, 'rb') as file:\n",
    "    lda = pickle.load(file)\n",
    "  print(\"Loaded model from disk\")"
   ]
  },
  {
   "cell_type": "code",
   "execution_count": 42,
   "id": "16abb9e9",
   "metadata": {},
   "outputs": [
    {
     "name": "stdout",
     "output_type": "stream",
     "text": [
      "LDA-Classifier Set-Accuracy is  96.70730932876104\n"
     ]
    }
   ],
   "source": [
    "y_pred = lda.predict(X_test) # predicting target attribute on testing dataset\n",
    "ac=accuracy_score(y_test, y_pred)*100 # calculating accuracy of predicted data\n",
    "print(\"LDA-Classifier Set-Accuracy is \", ac)"
   ]
  },
  {
   "cell_type": "code",
   "execution_count": 44,
   "id": "8d35695f",
   "metadata": {},
   "outputs": [
    {
     "name": "stdout",
     "output_type": "stream",
     "text": [
      "              precision    recall  f1-score   support\n",
      "\n",
      "    abnormal       0.97      0.96      0.96     14720\n",
      "      normal       0.96      0.98      0.97     16774\n",
      "\n",
      "    accuracy                           0.97     31494\n",
      "   macro avg       0.97      0.97      0.97     31494\n",
      "weighted avg       0.97      0.97      0.97     31494\n",
      "\n"
     ]
    }
   ],
   "source": [
    "print(classification_report(y_test, y_pred,target_names=le1_classes_))"
   ]
  },
  {
   "cell_type": "markdown",
   "id": "72b5818a",
   "metadata": {},
   "source": [
    "MLP"
   ]
  },
  {
   "cell_type": "code",
   "execution_count": 47,
   "id": "1578d3a3",
   "metadata": {},
   "outputs": [],
   "source": [
    "from keras.layers import Dense # importing dense layer\n",
    "from keras.models import Sequential #importing Sequential layer\n",
    "from keras.models import model_from_json # saving and loading trained model"
   ]
  },
  {
   "cell_type": "code",
   "execution_count": null,
   "id": "e8eafff5",
   "metadata": {},
   "outputs": [],
   "source": [
    "X = bin_data.iloc[:,0:93].values # dataset excluding target attribute (encoded, one-hot-encoded,original)\n",
    "Y = bin_data[['intrusion']].values # target attribute"
   ]
  },
  {
   "cell_type": "code",
   "execution_count": null,
   "id": "94e50b24",
   "metadata": {},
   "outputs": [],
   "source": [
    "# splitting the dataset 75% for training and 25% testing\n",
    "X_train, X_test, y_train, y_test = train_test_split(X,Y, test_size=0.25, random_state=42)"
   ]
  },
  {
   "cell_type": "code",
   "execution_count": null,
   "id": "517443f6",
   "metadata": {},
   "outputs": [],
   "source": [
    "mlp = Sequential() # creating model\n",
    "\n",
    "# adding input layer and first layer with 50 neurons\n",
    "mlp.add(Dense(units=50, input_dim=X_train.shape[1], activation='relu'))\n",
    "# output layer with sigmoid activation\n",
    "mlp.add(Dense(units=1,activation='sigmoid'))"
   ]
  },
  {
   "cell_type": "code",
   "execution_count": null,
   "id": "f71cd43a",
   "metadata": {},
   "outputs": [],
   "source": [
    "mlp.compile(loss='binary_crossentropy', optimizer='adam', metrics=['accuracy'])"
   ]
  },
  {
   "cell_type": "code",
   "execution_count": null,
   "id": "fc8f4ef5",
   "metadata": {},
   "outputs": [],
   "source": [
    "mlp.summary()"
   ]
  },
  {
   "cell_type": "code",
   "execution_count": null,
   "id": "0287443d",
   "metadata": {},
   "outputs": [],
   "source": [
    "history = mlp.fit(X_train, y_train, epochs=100, batch_size=5000,validation_split=0.2)"
   ]
  },
  {
   "cell_type": "code",
   "execution_count": null,
   "id": "5a074158",
   "metadata": {},
   "outputs": [],
   "source": [
    "filepath = r'C:\\Users\\bonik\\Downloads\\Network-Intrusion-Detection-Using-Machine-Learning-master\\Network-Intrusion-Detection-Using-Machine-Learning-master\\models\\mlp_binary.json'\n",
    "weightspath = r'C:\\Users\\bonik\\Downloads\\Network-Intrusion-Detection-Using-Machine-Learning-master\\Network-Intrusion-Detection-Using-Machine-Learning-master\\weights\\mlp_binary.h5'\n",
    "if (not path.isfile(filepath)):\n",
    "  # serialize model to JSON\n",
    "  mlp_json = mlp.to_json()\n",
    "  with open(filepath, \"w\") as json_file:\n",
    "    json_file.write(mlp_json)\n",
    "\n",
    "  # serialize weights to HDF5\n",
    "  mlp.save_weights(weightspath)\n",
    "  print(\"Saved model to disk\")\n",
    "\n",
    "  # load json and create model\n",
    "  json_file = open(filepath, 'r')\n",
    "  loaded_model_json = json_file.read()\n",
    "  json_file.close()\n",
    "  mlp = model_from_json(loaded_model_json)\n",
    "\n",
    "  # load weights into new model\n",
    "  mlp.load_weights(weightspath)\n",
    "  print(\"Loaded model from disk\")"
   ]
  },
  {
   "cell_type": "code",
   "execution_count": null,
   "id": "f6770ef0",
   "metadata": {},
   "outputs": [],
   "source": [
    "mlp.compile(loss='binary_crossentropy', optimizer='adam', metrics=['accuracy'])"
   ]
  },
  {
   "cell_type": "code",
   "execution_count": null,
   "id": "d9d4f4a0",
   "metadata": {},
   "outputs": [],
   "source": [
    "test_results = mlp.evaluate(X_test, y_test, verbose=1)\n",
    "print(f'Test results - Loss: {test_results[0]} - Accuracy: {test_results[1]*100}')"
   ]
  },
  {
   "cell_type": "code",
   "execution_count": null,
   "id": "578a40cd",
   "metadata": {},
   "outputs": [],
   "source": [
    "plt.plot(history.history['accuracy'])\n",
    "plt.plot(history.history['val_accuracy'])\n",
    "plt.title(\"Plot of accuracy vs epoch for train and test dataset\")\n",
    "plt.ylabel('accuracy')\n",
    "plt.xlabel('epoch')\n",
    "plt.legend(['train', 'test'], loc='best')\n",
    "plt.savefig(r'C:\\Users\\bonik\\Downloads\\Network-Intrusion-Detection-Using-Machine-Learning-master\\Network-Intrusion-Detection-Using-Machine-Learning-master\\plots\\mlp_binary_accuracy.png')\n",
    "plt.show()"
   ]
  },
  {
   "cell_type": "code",
   "execution_count": null,
   "id": "8f1d45dc",
   "metadata": {},
   "outputs": [],
   "source": [
    "plt.plot(history.history['loss'])\n",
    "plt.plot(history.history['val_loss'])\n",
    "plt.title('Plot of loss vs epoch for train and test dataset')\n",
    "plt.ylabel('loss')\n",
    "plt.xlabel('epoch')\n",
    "plt.legend(['train', 'test'], loc='best')\n",
    "plt.savefig(r'C:\\Users\\bonik\\Downloads\\Network-Intrusion-Detection-Using-Machine-Learning-master\\Network-Intrusion-Detection-Using-Machine-Learning-master\\plots\\mlp_binary_loss.png')\n",
    "plt.show()"
   ]
  },
  {
   "cell_type": "markdown",
   "id": "b9590413",
   "metadata": {},
   "source": [
    "lstm"
   ]
  },
  {
   "cell_type": "code",
   "execution_count": null,
   "id": "7e6c9ecf",
   "metadata": {},
   "outputs": [],
   "source": [
    "from keras.layers import LSTM"
   ]
  },
  {
   "cell_type": "code",
   "execution_count": null,
   "id": "4c124e00",
   "metadata": {},
   "outputs": [],
   "source": [
    "X = bin_data.iloc[:,0:93] # dataset excluding target attribute (encoded, one-hot-encoded,original)\n",
    "Y = bin_data[['intrusion']].values "
   ]
  },
  {
   "cell_type": "code",
   "execution_count": null,
   "id": "89dcb696",
   "metadata": {},
   "outputs": [],
   "source": [
    "X_train, X_test, y_train, y_test = train_test_split(X,Y, test_size=0.25, random_state=42)"
   ]
  },
  {
   "cell_type": "code",
   "execution_count": null,
   "id": "3d89bcca",
   "metadata": {},
   "outputs": [],
   "source": [
    "X_train = X_train.to_numpy()"
   ]
  },
  {
   "cell_type": "code",
   "execution_count": null,
   "id": "24c3077e",
   "metadata": {},
   "outputs": [],
   "source": [
    "x_train = np.reshape(X_train, (X_train.shape[0],X_train.shape[1],1))"
   ]
  },
  {
   "cell_type": "code",
   "execution_count": null,
   "id": "0e7b302a",
   "metadata": {},
   "outputs": [],
   "source": [
    "lst = Sequential() # initializing model\n",
    "\n",
    "# input layer and LSTM layer with 50 neurons\n",
    "lst.add(LSTM(units=50, return_sequences=True, input_shape=(x_train.shape[1],1)))\n",
    "# outpute layer with sigmoid activation\n",
    "lst.add(Dense(1, activation='sigmoid'))"
   ]
  },
  {
   "cell_type": "code",
   "execution_count": null,
   "id": "a63e628c",
   "metadata": {},
   "outputs": [],
   "source": [
    "lst.compile(loss='binary_crossentropy',optimizer='adam',metrics=['accuracy'])"
   ]
  },
  {
   "cell_type": "code",
   "execution_count": null,
   "id": "17fc5b0a",
   "metadata": {},
   "outputs": [],
   "source": [
    "lst.summary()"
   ]
  },
  {
   "cell_type": "code",
   "execution_count": null,
   "id": "369e07b2",
   "metadata": {},
   "outputs": [],
   "source": [
    "history = lst.fit(x_train, y_train, epochs=100, batch_size=5000,validation_split=0.2)"
   ]
  },
  {
   "cell_type": "code",
   "execution_count": null,
   "id": "7c03ea12",
   "metadata": {},
   "outputs": [],
   "source": [
    "filepath = r'C:\\Users\\bonik\\Downloads\\Network-Intrusion-Detection-Using-Machine-Learning-master\\Network-Intrusion-Detection-Using-Machine-Learning-master\\models\\lst_binary.json'\n",
    "weightspath = r'C:\\Users\\bonik\\Downloads\\Network-Intrusion-Detection-Using-Machine-Learning-master\\Network-Intrusion-Detection-Using-Machine-Learning-master\\weights\\lst_binary.h5'\n",
    "if (not path.isfile(filepath)): \n",
    "  # serialize model to JSON\n",
    "  autoencoder_json = autoencoder.to_json()\n",
    "  with open(filepath, \"w\") as json_file:\n",
    "    json_file.write(autoencoder_json)\n",
    "\n",
    "  # serialize weights to HDF5\n",
    "  autoencoder.save_weights(weightspath)\n",
    "  print(\"Saved model to disk\")\n",
    "\n",
    "  # load json and create model\n",
    "  json_file = open(filepath, 'r')\n",
    "  loaded_model_json = json_file.read()\n",
    "  json_file.close()\n",
    "  autoencoder = model_from_json(loaded_model_json)\n",
    "\n",
    "  # load weights into new model\n",
    "  autoencoder.load_weights(weightspath)\n",
    "  print(\"Loaded model from disk\")"
   ]
  },
  {
   "cell_type": "code",
   "execution_count": null,
   "id": "11e91058",
   "metadata": {},
   "outputs": [],
   "source": [
    "lst.compile(loss='binary_crossentropy', optimizer='adam', metrics=['accuracy'])"
   ]
  },
  {
   "cell_type": "code",
   "execution_count": null,
   "id": "9a57e81c",
   "metadata": {},
   "outputs": [],
   "source": [
    "test_results = lst.evaluate(X_test, X_test, verbose=1)\n",
    "print(f'Test results - Loss: {test_results[0]} - Accuracy: {test_results[1]*100}')"
   ]
  },
  {
   "cell_type": "code",
   "execution_count": null,
   "id": "f2b97365",
   "metadata": {},
   "outputs": [],
   "source": [
    "plt.plot(history['loss'])\n",
    "plt.plot(history['val_loss'])\n",
    "plt.title(\"Plot of loss vs epoch for train and test dataset\")\n",
    "plt.ylabel('loss')\n",
    "plt.xlabel('epoch')\n",
    "plt.legend(['train', 'test'], loc='upper right')\n",
    "plt.savefig(r'C:\\Users\\bonik\\Downloads\\Network-Intrusion-Detection-Using-Machine-Learning-master\\Network-Intrusion-Detection-Using-Machine-Learning-master\\plots\\lstm_binary_loss.png')\n",
    "plt.show()"
   ]
  },
  {
   "cell_type": "code",
   "execution_count": null,
   "id": "a2903d35",
   "metadata": {},
   "outputs": [],
   "source": [
    "plt.plot(history['accuracy'])\n",
    "plt.plot(history['val_accuracy'])\n",
    "plt.title(\"Plot of accuracy vs epoch for train and test dataset\")\n",
    "plt.ylabel('accuracy')\n",
    "plt.xlabel('epoch')\n",
    "plt.legend(['train', 'test'], loc='best')\n",
    "plt.savefig(r'C:\\Users\\bonik\\Downloads\\Network-Intrusion-Detection-Using-Machine-Learning-master\\Network-Intrusion-Detection-Using-Machine-Learning-master\\plots\\lstm_binary_accuracy.png')\n",
    "plt.show()"
   ]
  },
  {
   "cell_type": "markdown",
   "id": "659d0c7e",
   "metadata": {},
   "source": [
    "auto encoder"
   ]
  },
  {
   "cell_type": "code",
   "execution_count": null,
   "id": "115b8cfd",
   "metadata": {},
   "outputs": [],
   "source": [
    "from keras.layers import Input\n",
    "from keras.models import Model"
   ]
  },
  {
   "cell_type": "code",
   "execution_count": null,
   "id": "7b1af269",
   "metadata": {},
   "outputs": [],
   "source": [
    "X_train, X_test = train_test_split(bin_data, test_size=0.25, random_state=42)"
   ]
  },
  {
   "cell_type": "code",
   "execution_count": null,
   "id": "9fdec315",
   "metadata": {},
   "outputs": [],
   "source": [
    "X_train = X_train.drop(['intrusion','abnormal','normal','label'],axis=1) \n",
    "\n",
    "y_test = X_test['intrusion'] # target attribute\n",
    "\n",
    "# dataset excluding target attribute (encoded, one-hot-encoded,original)\n",
    "X_test = X_test.drop(['intrusion','abnormal','normal','label'],axis=1)"
   ]
  },
  {
   "cell_type": "code",
   "execution_count": null,
   "id": "392e97c3",
   "metadata": {},
   "outputs": [],
   "source": [
    "X_train = X_train.values\n",
    "X_test = X_test.values\n",
    "y_test = y_test.values"
   ]
  },
  {
   "cell_type": "code",
   "execution_count": null,
   "id": "c67d3bb9",
   "metadata": {},
   "outputs": [],
   "source": [
    "input_dim = X_train.shape[1]\n",
    "encoding_dim = 50\n",
    "\n",
    "#input layer\n",
    "input_layer = Input(shape=(input_dim, ))\n",
    "#encoding layer with 50 neurons\n",
    "encoder = Dense(encoding_dim, activation=\"relu\")(input_layer)           \n",
    "#decoding and output layer\n",
    "output_layer = Dense(input_dim, activation='softmax')(encoder)"
   ]
  },
  {
   "cell_type": "code",
   "execution_count": null,
   "id": "d51bc103",
   "metadata": {},
   "outputs": [],
   "source": [
    "autoencoder = Model(inputs=input_layer, outputs=output_layer)\n",
    "\n",
    "# defining loss function, optimizer, metrics and then compiling model\n",
    "autoencoder.compile(optimizer='adam', loss='mean_squared_error',metrics=['accuracy'])"
   ]
  },
  {
   "cell_type": "code",
   "execution_count": null,
   "id": "bb789af8",
   "metadata": {},
   "outputs": [],
   "source": [
    "autoencoder.summary()"
   ]
  },
  {
   "cell_type": "code",
   "execution_count": null,
   "id": "648b3249",
   "metadata": {},
   "outputs": [],
   "source": [
    "history = autoencoder.fit(X_train, X_train, epochs=100,batch_size=500,validation_data=(X_test, X_test)).history"
   ]
  },
  {
   "cell_type": "code",
   "execution_count": null,
   "id": "1463cc87",
   "metadata": {},
   "outputs": [],
   "source": [
    "filepath = r'C:\\Users\\bonik\\Downloads\\Network-Intrusion-Detection-Using-Machine-Learning-master\\Network-Intrusion-Detection-Using-Machine-Learning-master\\models\\ae_binary.json'\n",
    "weightspath = r'C:\\Users\\bonik\\Downloads\\Network-Intrusion-Detection-Using-Machine-Learning-master\\Network-Intrusion-Detection-Using-Machine-Learning-master\\weights\\ae_binary.h5'\n",
    "if (not path.isfile(filepath)): \n",
    "  # serialize model to JSON\n",
    "  autoencoder_json = autoencoder.to_json()\n",
    "  with open(filepath, \"w\") as json_file:\n",
    "    json_file.write(autoencoder_json)\n",
    "\n",
    "  # serialize weights to HDF5\n",
    "  autoencoder.save_weights(weightspath)\n",
    "  print(\"Saved model to disk\")\n",
    "\n",
    "  # load json and create model\n",
    "  json_file = open(filepath, 'r')\n",
    "  loaded_model_json = json_file.read()\n",
    "  json_file.close()\n",
    "  autoencoder = model_from_json(loaded_model_json)\n",
    "\n",
    "  # load weights into new model\n",
    "  autoencoder.load_weights(weightspath)\n",
    "  print(\"Loaded model from disk\")"
   ]
  },
  {
   "cell_type": "code",
   "execution_count": null,
   "id": "625c24e4",
   "metadata": {},
   "outputs": [],
   "source": [
    "autoencoder.compile(optimizer='adam', loss='mean_squared_error',metrics=['accuracy'])"
   ]
  },
  {
   "cell_type": "code",
   "execution_count": null,
   "id": "246a4bfc",
   "metadata": {},
   "outputs": [],
   "source": [
    "test_results = autoencoder.evaluate(X_test, X_test, verbose=1)\n",
    "print(f'Test results - Loss: {test_results[0]} - Accuracy: {test_results[1]}%')"
   ]
  },
  {
   "cell_type": "code",
   "execution_count": null,
   "id": "c9656e74",
   "metadata": {},
   "outputs": [],
   "source": [
    "plt.plot(history['loss'])\n",
    "plt.plot(history['val_loss'])\n",
    "plt.title(\"Plot of loss vs epoch for train and test dataset\")\n",
    "plt.ylabel('loss')\n",
    "plt.xlabel('epoch')\n",
    "plt.legend(['train', 'test'], loc='upper right')\n",
    "plt.savefig(r'C:\\Users\\bonik\\Downloads\\Network-Intrusion-Detection-Using-Machine-Learning-master\\Network-Intrusion-Detection-Using-Machine-Learning-master\\plots\\ae_binary_loss.png')\n",
    "plt.show()"
   ]
  },
  {
   "cell_type": "code",
   "execution_count": null,
   "id": "7db3b048",
   "metadata": {},
   "outputs": [],
   "source": [
    "plt.plot(history['accuracy'])\n",
    "plt.plot(history['val_accuracy'])\n",
    "plt.title(\"Plot of accuracy vs epoch for train and test dataset\")\n",
    "plt.ylabel('accuracy')\n",
    "plt.xlabel('epoch')\n",
    "plt.legend(['train', 'test'], loc='best')\n",
    "plt.savefig(r'C:\\Users\\bonik\\Downloads\\Network-Intrusion-Detection-Using-Machine-Learning-master\\Network-Intrusion-Detection-Using-Machine-Learning-master\\plots\\ae_binary_accuracy.png')\n",
    "plt.show()"
   ]
  },
  {
   "cell_type": "code",
   "execution_count": null,
   "id": "a8e1694c",
   "metadata": {},
   "outputs": [],
   "source": [
    "predictions = autoencoder.predict(X_test)"
   ]
  },
  {
   "cell_type": "code",
   "execution_count": null,
   "id": "e5ce5afb",
   "metadata": {},
   "outputs": [],
   "source": [
    "mse = np.mean(np.power(X_test - predictions, 2), axis=1)\n",
    "error_df = pd.DataFrame({'reconstruction_error': mse,\n",
    "                        'true_class': y_test})"
   ]
  },
  {
   "cell_type": "code",
   "execution_count": null,
   "id": "cde7357f",
   "metadata": {},
   "outputs": [],
   "source": [
    "error_df.describe()"
   ]
  },
  {
   "cell_type": "code",
   "execution_count": null,
   "id": "23772f89",
   "metadata": {},
   "outputs": [],
   "source": []
  },
  {
   "cell_type": "code",
   "execution_count": null,
   "id": "f3d00d71",
   "metadata": {},
   "outputs": [],
   "source": []
  }
 ],
 "metadata": {
  "kernelspec": {
   "display_name": "Python 3 (ipykernel)",
   "language": "python",
   "name": "python3"
  },
  "language_info": {
   "codemirror_mode": {
    "name": "ipython",
    "version": 3
   },
   "file_extension": ".py",
   "mimetype": "text/x-python",
   "name": "python",
   "nbconvert_exporter": "python",
   "pygments_lexer": "ipython3",
   "version": "3.11.5"
  }
 },
 "nbformat": 4,
 "nbformat_minor": 5
}
