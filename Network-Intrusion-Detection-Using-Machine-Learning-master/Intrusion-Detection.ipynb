{
 "cells": [
  {
   "cell_type": "code",
   "execution_count": 3,
   "id": "41f45903",
   "metadata": {},
   "outputs": [],
   "source": [
    "from sklearn.metrics import accuracy_score # for calculating accuracy of model\n",
    "from sklearn.model_selection import train_test_split # for splitting the dataset for training and testing\n",
    "from sklearn.metrics import classification_report # for generating a classification report of model\n",
    "import pickle # saving and loading trained model\n",
    "from os import path\n",
    "import numpy as np\n",
    "import pandas as pd\n",
    "import matplotlib.pyplot as plt\n",
    "from sklearn.svm import SVC"
   ]
  },
  {
   "cell_type": "code",
   "execution_count": 5,
   "id": "c33145eb",
   "metadata": {},
   "outputs": [
    {
     "ename": "FileNotFoundError",
     "evalue": "[Errno 2] No such file or directory: 'C:\\\\Users\\\\bonik\\\\Downloads\\\\Network-Intrusion-Detection-Using-Machine-Learning-master\\\\Network-Intrusion-Detection-Using-Machine-Learning-master\\\\datasets\\\\bin_data.csv'",
     "output_type": "error",
     "traceback": [
      "\u001b[1;31m---------------------------------------------------------------------------\u001b[0m",
      "\u001b[1;31mFileNotFoundError\u001b[0m                         Traceback (most recent call last)",
      "Cell \u001b[1;32mIn[5], line 1\u001b[0m\n\u001b[1;32m----> 1\u001b[0m bin_data \u001b[38;5;241m=\u001b[39m \u001b[43mpd\u001b[49m\u001b[38;5;241;43m.\u001b[39;49m\u001b[43mread_csv\u001b[49m\u001b[43m(\u001b[49m\u001b[38;5;124;43mr\u001b[39;49m\u001b[38;5;124;43m\"\u001b[39;49m\u001b[38;5;124;43mC:\u001b[39;49m\u001b[38;5;124;43m\\\u001b[39;49m\u001b[38;5;124;43mUsers\u001b[39;49m\u001b[38;5;124;43m\\\u001b[39;49m\u001b[38;5;124;43mbonik\u001b[39;49m\u001b[38;5;124;43m\\\u001b[39;49m\u001b[38;5;124;43mDownloads\u001b[39;49m\u001b[38;5;124;43m\\\u001b[39;49m\u001b[38;5;124;43mNetwork-Intrusion-Detection-Using-Machine-Learning-master\u001b[39;49m\u001b[38;5;124;43m\\\u001b[39;49m\u001b[38;5;124;43mNetwork-Intrusion-Detection-Using-Machine-Learning-master\u001b[39;49m\u001b[38;5;124;43m\\\u001b[39;49m\u001b[38;5;124;43mdatasets\u001b[39;49m\u001b[38;5;124;43m\\\u001b[39;49m\u001b[38;5;124;43mbin_data.csv\u001b[39;49m\u001b[38;5;124;43m\"\u001b[39;49m\u001b[43m)\u001b[49m\n\u001b[0;32m      2\u001b[0m bin_data\u001b[38;5;241m.\u001b[39mdrop(bin_data\u001b[38;5;241m.\u001b[39mcolumns[\u001b[38;5;241m0\u001b[39m],axis\u001b[38;5;241m=\u001b[39m\u001b[38;5;241m1\u001b[39m,inplace\u001b[38;5;241m=\u001b[39m\u001b[38;5;28;01mTrue\u001b[39;00m)\n\u001b[0;32m      3\u001b[0m multi_data \u001b[38;5;241m=\u001b[39m pd\u001b[38;5;241m.\u001b[39mread_csv(\u001b[38;5;124mr\u001b[39m\u001b[38;5;124m\"\u001b[39m\u001b[38;5;124mC:\u001b[39m\u001b[38;5;124m\\\u001b[39m\u001b[38;5;124mUsers\u001b[39m\u001b[38;5;124m\\\u001b[39m\u001b[38;5;124mbonik\u001b[39m\u001b[38;5;124m\\\u001b[39m\u001b[38;5;124mDownloads\u001b[39m\u001b[38;5;124m\\\u001b[39m\u001b[38;5;124mNetwork-Intrusion-Detection-Using-Machine-Learning-master\u001b[39m\u001b[38;5;124m\\\u001b[39m\u001b[38;5;124mNetwork-Intrusion-Detection-Using-Machine-Learning-master\u001b[39m\u001b[38;5;124m\\\u001b[39m\u001b[38;5;124mdatasets\u001b[39m\u001b[38;5;124m\\\u001b[39m\u001b[38;5;124mmulti_data.csv\u001b[39m\u001b[38;5;124m\"\u001b[39m)\n",
      "File \u001b[1;32mD:\\Anaconda3\\Lib\\site-packages\\pandas\\io\\parsers\\readers.py:912\u001b[0m, in \u001b[0;36mread_csv\u001b[1;34m(filepath_or_buffer, sep, delimiter, header, names, index_col, usecols, dtype, engine, converters, true_values, false_values, skipinitialspace, skiprows, skipfooter, nrows, na_values, keep_default_na, na_filter, verbose, skip_blank_lines, parse_dates, infer_datetime_format, keep_date_col, date_parser, date_format, dayfirst, cache_dates, iterator, chunksize, compression, thousands, decimal, lineterminator, quotechar, quoting, doublequote, escapechar, comment, encoding, encoding_errors, dialect, on_bad_lines, delim_whitespace, low_memory, memory_map, float_precision, storage_options, dtype_backend)\u001b[0m\n\u001b[0;32m    899\u001b[0m kwds_defaults \u001b[38;5;241m=\u001b[39m _refine_defaults_read(\n\u001b[0;32m    900\u001b[0m     dialect,\n\u001b[0;32m    901\u001b[0m     delimiter,\n\u001b[1;32m   (...)\u001b[0m\n\u001b[0;32m    908\u001b[0m     dtype_backend\u001b[38;5;241m=\u001b[39mdtype_backend,\n\u001b[0;32m    909\u001b[0m )\n\u001b[0;32m    910\u001b[0m kwds\u001b[38;5;241m.\u001b[39mupdate(kwds_defaults)\n\u001b[1;32m--> 912\u001b[0m \u001b[38;5;28;01mreturn\u001b[39;00m \u001b[43m_read\u001b[49m\u001b[43m(\u001b[49m\u001b[43mfilepath_or_buffer\u001b[49m\u001b[43m,\u001b[49m\u001b[43m \u001b[49m\u001b[43mkwds\u001b[49m\u001b[43m)\u001b[49m\n",
      "File \u001b[1;32mD:\\Anaconda3\\Lib\\site-packages\\pandas\\io\\parsers\\readers.py:577\u001b[0m, in \u001b[0;36m_read\u001b[1;34m(filepath_or_buffer, kwds)\u001b[0m\n\u001b[0;32m    574\u001b[0m _validate_names(kwds\u001b[38;5;241m.\u001b[39mget(\u001b[38;5;124m\"\u001b[39m\u001b[38;5;124mnames\u001b[39m\u001b[38;5;124m\"\u001b[39m, \u001b[38;5;28;01mNone\u001b[39;00m))\n\u001b[0;32m    576\u001b[0m \u001b[38;5;66;03m# Create the parser.\u001b[39;00m\n\u001b[1;32m--> 577\u001b[0m parser \u001b[38;5;241m=\u001b[39m \u001b[43mTextFileReader\u001b[49m\u001b[43m(\u001b[49m\u001b[43mfilepath_or_buffer\u001b[49m\u001b[43m,\u001b[49m\u001b[43m \u001b[49m\u001b[38;5;241;43m*\u001b[39;49m\u001b[38;5;241;43m*\u001b[39;49m\u001b[43mkwds\u001b[49m\u001b[43m)\u001b[49m\n\u001b[0;32m    579\u001b[0m \u001b[38;5;28;01mif\u001b[39;00m chunksize \u001b[38;5;129;01mor\u001b[39;00m iterator:\n\u001b[0;32m    580\u001b[0m     \u001b[38;5;28;01mreturn\u001b[39;00m parser\n",
      "File \u001b[1;32mD:\\Anaconda3\\Lib\\site-packages\\pandas\\io\\parsers\\readers.py:1407\u001b[0m, in \u001b[0;36mTextFileReader.__init__\u001b[1;34m(self, f, engine, **kwds)\u001b[0m\n\u001b[0;32m   1404\u001b[0m     \u001b[38;5;28mself\u001b[39m\u001b[38;5;241m.\u001b[39moptions[\u001b[38;5;124m\"\u001b[39m\u001b[38;5;124mhas_index_names\u001b[39m\u001b[38;5;124m\"\u001b[39m] \u001b[38;5;241m=\u001b[39m kwds[\u001b[38;5;124m\"\u001b[39m\u001b[38;5;124mhas_index_names\u001b[39m\u001b[38;5;124m\"\u001b[39m]\n\u001b[0;32m   1406\u001b[0m \u001b[38;5;28mself\u001b[39m\u001b[38;5;241m.\u001b[39mhandles: IOHandles \u001b[38;5;241m|\u001b[39m \u001b[38;5;28;01mNone\u001b[39;00m \u001b[38;5;241m=\u001b[39m \u001b[38;5;28;01mNone\u001b[39;00m\n\u001b[1;32m-> 1407\u001b[0m \u001b[38;5;28mself\u001b[39m\u001b[38;5;241m.\u001b[39m_engine \u001b[38;5;241m=\u001b[39m \u001b[38;5;28;43mself\u001b[39;49m\u001b[38;5;241;43m.\u001b[39;49m\u001b[43m_make_engine\u001b[49m\u001b[43m(\u001b[49m\u001b[43mf\u001b[49m\u001b[43m,\u001b[49m\u001b[43m \u001b[49m\u001b[38;5;28;43mself\u001b[39;49m\u001b[38;5;241;43m.\u001b[39;49m\u001b[43mengine\u001b[49m\u001b[43m)\u001b[49m\n",
      "File \u001b[1;32mD:\\Anaconda3\\Lib\\site-packages\\pandas\\io\\parsers\\readers.py:1661\u001b[0m, in \u001b[0;36mTextFileReader._make_engine\u001b[1;34m(self, f, engine)\u001b[0m\n\u001b[0;32m   1659\u001b[0m     \u001b[38;5;28;01mif\u001b[39;00m \u001b[38;5;124m\"\u001b[39m\u001b[38;5;124mb\u001b[39m\u001b[38;5;124m\"\u001b[39m \u001b[38;5;129;01mnot\u001b[39;00m \u001b[38;5;129;01min\u001b[39;00m mode:\n\u001b[0;32m   1660\u001b[0m         mode \u001b[38;5;241m+\u001b[39m\u001b[38;5;241m=\u001b[39m \u001b[38;5;124m\"\u001b[39m\u001b[38;5;124mb\u001b[39m\u001b[38;5;124m\"\u001b[39m\n\u001b[1;32m-> 1661\u001b[0m \u001b[38;5;28mself\u001b[39m\u001b[38;5;241m.\u001b[39mhandles \u001b[38;5;241m=\u001b[39m \u001b[43mget_handle\u001b[49m\u001b[43m(\u001b[49m\n\u001b[0;32m   1662\u001b[0m \u001b[43m    \u001b[49m\u001b[43mf\u001b[49m\u001b[43m,\u001b[49m\n\u001b[0;32m   1663\u001b[0m \u001b[43m    \u001b[49m\u001b[43mmode\u001b[49m\u001b[43m,\u001b[49m\n\u001b[0;32m   1664\u001b[0m \u001b[43m    \u001b[49m\u001b[43mencoding\u001b[49m\u001b[38;5;241;43m=\u001b[39;49m\u001b[38;5;28;43mself\u001b[39;49m\u001b[38;5;241;43m.\u001b[39;49m\u001b[43moptions\u001b[49m\u001b[38;5;241;43m.\u001b[39;49m\u001b[43mget\u001b[49m\u001b[43m(\u001b[49m\u001b[38;5;124;43m\"\u001b[39;49m\u001b[38;5;124;43mencoding\u001b[39;49m\u001b[38;5;124;43m\"\u001b[39;49m\u001b[43m,\u001b[49m\u001b[43m \u001b[49m\u001b[38;5;28;43;01mNone\u001b[39;49;00m\u001b[43m)\u001b[49m\u001b[43m,\u001b[49m\n\u001b[0;32m   1665\u001b[0m \u001b[43m    \u001b[49m\u001b[43mcompression\u001b[49m\u001b[38;5;241;43m=\u001b[39;49m\u001b[38;5;28;43mself\u001b[39;49m\u001b[38;5;241;43m.\u001b[39;49m\u001b[43moptions\u001b[49m\u001b[38;5;241;43m.\u001b[39;49m\u001b[43mget\u001b[49m\u001b[43m(\u001b[49m\u001b[38;5;124;43m\"\u001b[39;49m\u001b[38;5;124;43mcompression\u001b[39;49m\u001b[38;5;124;43m\"\u001b[39;49m\u001b[43m,\u001b[49m\u001b[43m \u001b[49m\u001b[38;5;28;43;01mNone\u001b[39;49;00m\u001b[43m)\u001b[49m\u001b[43m,\u001b[49m\n\u001b[0;32m   1666\u001b[0m \u001b[43m    \u001b[49m\u001b[43mmemory_map\u001b[49m\u001b[38;5;241;43m=\u001b[39;49m\u001b[38;5;28;43mself\u001b[39;49m\u001b[38;5;241;43m.\u001b[39;49m\u001b[43moptions\u001b[49m\u001b[38;5;241;43m.\u001b[39;49m\u001b[43mget\u001b[49m\u001b[43m(\u001b[49m\u001b[38;5;124;43m\"\u001b[39;49m\u001b[38;5;124;43mmemory_map\u001b[39;49m\u001b[38;5;124;43m\"\u001b[39;49m\u001b[43m,\u001b[49m\u001b[43m \u001b[49m\u001b[38;5;28;43;01mFalse\u001b[39;49;00m\u001b[43m)\u001b[49m\u001b[43m,\u001b[49m\n\u001b[0;32m   1667\u001b[0m \u001b[43m    \u001b[49m\u001b[43mis_text\u001b[49m\u001b[38;5;241;43m=\u001b[39;49m\u001b[43mis_text\u001b[49m\u001b[43m,\u001b[49m\n\u001b[0;32m   1668\u001b[0m \u001b[43m    \u001b[49m\u001b[43merrors\u001b[49m\u001b[38;5;241;43m=\u001b[39;49m\u001b[38;5;28;43mself\u001b[39;49m\u001b[38;5;241;43m.\u001b[39;49m\u001b[43moptions\u001b[49m\u001b[38;5;241;43m.\u001b[39;49m\u001b[43mget\u001b[49m\u001b[43m(\u001b[49m\u001b[38;5;124;43m\"\u001b[39;49m\u001b[38;5;124;43mencoding_errors\u001b[39;49m\u001b[38;5;124;43m\"\u001b[39;49m\u001b[43m,\u001b[49m\u001b[43m \u001b[49m\u001b[38;5;124;43m\"\u001b[39;49m\u001b[38;5;124;43mstrict\u001b[39;49m\u001b[38;5;124;43m\"\u001b[39;49m\u001b[43m)\u001b[49m\u001b[43m,\u001b[49m\n\u001b[0;32m   1669\u001b[0m \u001b[43m    \u001b[49m\u001b[43mstorage_options\u001b[49m\u001b[38;5;241;43m=\u001b[39;49m\u001b[38;5;28;43mself\u001b[39;49m\u001b[38;5;241;43m.\u001b[39;49m\u001b[43moptions\u001b[49m\u001b[38;5;241;43m.\u001b[39;49m\u001b[43mget\u001b[49m\u001b[43m(\u001b[49m\u001b[38;5;124;43m\"\u001b[39;49m\u001b[38;5;124;43mstorage_options\u001b[39;49m\u001b[38;5;124;43m\"\u001b[39;49m\u001b[43m,\u001b[49m\u001b[43m \u001b[49m\u001b[38;5;28;43;01mNone\u001b[39;49;00m\u001b[43m)\u001b[49m\u001b[43m,\u001b[49m\n\u001b[0;32m   1670\u001b[0m \u001b[43m\u001b[49m\u001b[43m)\u001b[49m\n\u001b[0;32m   1671\u001b[0m \u001b[38;5;28;01massert\u001b[39;00m \u001b[38;5;28mself\u001b[39m\u001b[38;5;241m.\u001b[39mhandles \u001b[38;5;129;01mis\u001b[39;00m \u001b[38;5;129;01mnot\u001b[39;00m \u001b[38;5;28;01mNone\u001b[39;00m\n\u001b[0;32m   1672\u001b[0m f \u001b[38;5;241m=\u001b[39m \u001b[38;5;28mself\u001b[39m\u001b[38;5;241m.\u001b[39mhandles\u001b[38;5;241m.\u001b[39mhandle\n",
      "File \u001b[1;32mD:\\Anaconda3\\Lib\\site-packages\\pandas\\io\\common.py:859\u001b[0m, in \u001b[0;36mget_handle\u001b[1;34m(path_or_buf, mode, encoding, compression, memory_map, is_text, errors, storage_options)\u001b[0m\n\u001b[0;32m    854\u001b[0m \u001b[38;5;28;01melif\u001b[39;00m \u001b[38;5;28misinstance\u001b[39m(handle, \u001b[38;5;28mstr\u001b[39m):\n\u001b[0;32m    855\u001b[0m     \u001b[38;5;66;03m# Check whether the filename is to be opened in binary mode.\u001b[39;00m\n\u001b[0;32m    856\u001b[0m     \u001b[38;5;66;03m# Binary mode does not support 'encoding' and 'newline'.\u001b[39;00m\n\u001b[0;32m    857\u001b[0m     \u001b[38;5;28;01mif\u001b[39;00m ioargs\u001b[38;5;241m.\u001b[39mencoding \u001b[38;5;129;01mand\u001b[39;00m \u001b[38;5;124m\"\u001b[39m\u001b[38;5;124mb\u001b[39m\u001b[38;5;124m\"\u001b[39m \u001b[38;5;129;01mnot\u001b[39;00m \u001b[38;5;129;01min\u001b[39;00m ioargs\u001b[38;5;241m.\u001b[39mmode:\n\u001b[0;32m    858\u001b[0m         \u001b[38;5;66;03m# Encoding\u001b[39;00m\n\u001b[1;32m--> 859\u001b[0m         handle \u001b[38;5;241m=\u001b[39m \u001b[38;5;28;43mopen\u001b[39;49m\u001b[43m(\u001b[49m\n\u001b[0;32m    860\u001b[0m \u001b[43m            \u001b[49m\u001b[43mhandle\u001b[49m\u001b[43m,\u001b[49m\n\u001b[0;32m    861\u001b[0m \u001b[43m            \u001b[49m\u001b[43mioargs\u001b[49m\u001b[38;5;241;43m.\u001b[39;49m\u001b[43mmode\u001b[49m\u001b[43m,\u001b[49m\n\u001b[0;32m    862\u001b[0m \u001b[43m            \u001b[49m\u001b[43mencoding\u001b[49m\u001b[38;5;241;43m=\u001b[39;49m\u001b[43mioargs\u001b[49m\u001b[38;5;241;43m.\u001b[39;49m\u001b[43mencoding\u001b[49m\u001b[43m,\u001b[49m\n\u001b[0;32m    863\u001b[0m \u001b[43m            \u001b[49m\u001b[43merrors\u001b[49m\u001b[38;5;241;43m=\u001b[39;49m\u001b[43merrors\u001b[49m\u001b[43m,\u001b[49m\n\u001b[0;32m    864\u001b[0m \u001b[43m            \u001b[49m\u001b[43mnewline\u001b[49m\u001b[38;5;241;43m=\u001b[39;49m\u001b[38;5;124;43m\"\u001b[39;49m\u001b[38;5;124;43m\"\u001b[39;49m\u001b[43m,\u001b[49m\n\u001b[0;32m    865\u001b[0m \u001b[43m        \u001b[49m\u001b[43m)\u001b[49m\n\u001b[0;32m    866\u001b[0m     \u001b[38;5;28;01melse\u001b[39;00m:\n\u001b[0;32m    867\u001b[0m         \u001b[38;5;66;03m# Binary mode\u001b[39;00m\n\u001b[0;32m    868\u001b[0m         handle \u001b[38;5;241m=\u001b[39m \u001b[38;5;28mopen\u001b[39m(handle, ioargs\u001b[38;5;241m.\u001b[39mmode)\n",
      "\u001b[1;31mFileNotFoundError\u001b[0m: [Errno 2] No such file or directory: 'C:\\\\Users\\\\bonik\\\\Downloads\\\\Network-Intrusion-Detection-Using-Machine-Learning-master\\\\Network-Intrusion-Detection-Using-Machine-Learning-master\\\\datasets\\\\bin_data.csv'"
     ]
    }
   ],
   "source": [
    "bin_data = pd.read_csv(r\"C:\\Users\\bonik\\Downloads\\Network-Intrusion-Detection-Using-Machine-Learning-master\\Network-Intrusion-Detection-Using-Machine-Learning-master\\datasets\\bin_data.csv\")\n",
    "bin_data.drop(bin_data.columns[0],axis=1,inplace=True)\n",
    "multi_data = pd.read_csv(r\"C:\\Users\\bonik\\Downloads\\Network-Intrusion-Detection-Using-Machine-Learning-master\\Network-Intrusion-Detection-Using-Machine-Learning-master\\datasets\\multi_data.csv\")\n",
    "multi_data.drop(multi_data.columns[0],axis=1,inplace=True)\n",
    "le1_classes_ = np.load(r\"C:\\Users\\bonik\\Downloads\\Network-Intrusion-Detection-Using-Machine-Learning-master\\Network-Intrusion-Detection-Using-Machine-Learning-master\\labels\\le1_classes.npy\",allow_pickle=True)\n",
    "le2_classes_ = np.load(r\"C:\\Users\\bonik\\Downloads\\Network-Intrusion-Detection-Using-Machine-Learning-master\\Network-Intrusion-Detection-Using-Machine-Learning-master\\labels\\le2_classes.npy\",allow_pickle=True)"
   ]
  },
  {
   "cell_type": "code",
   "execution_count": 4,
   "id": "fbb24381",
   "metadata": {},
   "outputs": [],
   "source": [
    "X = bin_data.iloc[:,0:93].to_numpy() # dataset excluding target attribute (encoded, one-hot-encoded,original)\n",
    "Y = bin_data['intrusion']"
   ]
  },
  {
   "cell_type": "code",
   "execution_count": 5,
   "id": "92f53102",
   "metadata": {},
   "outputs": [],
   "source": [
    "X_train, X_test, y_train, y_test = train_test_split(X,Y, test_size=0.25, random_state=42) "
   ]
  },
  {
   "cell_type": "code",
   "execution_count": null,
   "id": "cecc7838",
   "metadata": {},
   "outputs": [],
   "source": [
    "lsvm = SVC(kernel='linear',gamma='auto') \n",
    "lsvm.fit(X_train,y_train) "
   ]
  },
  {
   "cell_type": "code",
   "execution_count": 7,
   "id": "e8509c31",
   "metadata": {},
   "outputs": [],
   "source": [
    "pkl_filename = r'C:\\Users\\bonik\\Downloads\\Network-Intrusion-Detection-Using-Machine-Learning-master\\Network-Intrusion-Detection-Using-Machine-Learning-master\\models\\lsvm_binary.pkl'\n",
    "if (not path.isfile(pkl_filename)):\n",
    "  # saving the trained model to disk\n",
    "  with open(pkl_filename, 'wb') as file:\n",
    "    pickle.dump(lsvm, file)\n",
    "  print(\"Saved model to disk\")\n",
    "  # loading the trained model from disk\n",
    "  with open(pkl_filename, 'rb') as file:\n",
    "    lsvm = pickle.load(file)\n",
    "  print(\"Loaded model from disk\") "
   ]
  },
  {
   "cell_type": "code",
   "execution_count": 8,
   "id": "db9410c9",
   "metadata": {},
   "outputs": [
    {
     "name": "stdout",
     "output_type": "stream",
     "text": [
      "LSVM-Classifier Binary Set-Accuracy is  96.69778370483266\n"
     ]
    }
   ],
   "source": [
    "y_pred = lsvm.predict(X_test) # predicting target attribute on testing dataset\n",
    "ac = accuracy_score(y_test, y_pred)*100 # calculating accuracy of predicted data\n",
    "print(\"LSVM-Classifier Binary Set-Accuracy is \", ac)\n"
   ]
  },
  {
   "cell_type": "code",
   "execution_count": 9,
   "id": "6d7473f3",
   "metadata": {},
   "outputs": [
    {
     "name": "stdout",
     "output_type": "stream",
     "text": [
      "              precision    recall  f1-score   support\n",
      "\n",
      "    abnormal       0.97      0.96      0.96     14720\n",
      "      normal       0.96      0.97      0.97     16774\n",
      "\n",
      "    accuracy                           0.97     31494\n",
      "   macro avg       0.97      0.97      0.97     31494\n",
      "weighted avg       0.97      0.97      0.97     31494\n",
      "\n"
     ]
    }
   ],
   "source": [
    "print(classification_report(y_test, y_pred,target_names=le1_classes_))"
   ]
  },
  {
   "cell_type": "code",
   "execution_count": null,
   "id": "3c5cfb72",
   "metadata": {},
   "outputs": [],
   "source": []
  },
  {
   "cell_type": "markdown",
   "id": "37b2b826",
   "metadata": {},
   "source": [
    "quadratic svm"
   ]
  },
  {
   "cell_type": "code",
   "execution_count": null,
   "id": "03493d47",
   "metadata": {},
   "outputs": [],
   "source": [
    "qsvm=SVC(kernel='poly',gamma='auto') # using kernal as polynomial for quadratic svm\n",
    "qsvm.fit(X_train,y_train)"
   ]
  },
  {
   "cell_type": "code",
   "execution_count": null,
   "id": "8014b548",
   "metadata": {},
   "outputs": [],
   "source": [
    "pkl_filename = r'C:\\Users\\bonik\\Downloads\\Network-Intrusion-Detection-Using-Machine-Learning-master\\Network-Intrusion-Detection-Using-Machine-Learning-master\\models\\qsvm_binary.pkl'\n",
    "if (not path.isfile(pkl_filename)):\n",
    "  # saving the trained model to disk \n",
    "  with open(pkl_filename, 'wb') as file:\n",
    "    pickle.dump(qsvm, file)\n",
    "  print(\"Saved model to disk\")\n",
    "  # loading the trained model from disk\n",
    "  with open(pkl_filename, 'rb') as file:\n",
    "    qsvm = pickle.load(file)\n",
    "  print(\"Loaded model from disk\")"
   ]
  },
  {
   "cell_type": "code",
   "execution_count": null,
   "id": "f3b84275",
   "metadata": {},
   "outputs": [],
   "source": [
    "y_pred=qsvm.predict(X_test) # predicting target attribute on testing dataset\n",
    "ac=accuracy_score(y_test, y_pred)*100 # calculating accuracy of predicted data\n",
    "print(\"QSVM-Classifier Binary Set-Accuracy is \", ac)"
   ]
  },
  {
   "cell_type": "code",
   "execution_count": null,
   "id": "e0071b47",
   "metadata": {},
   "outputs": [],
   "source": [
    "print(classification_report(y_test, y_pred,target_names=le1_classes_))"
   ]
  },
  {
   "cell_type": "markdown",
   "id": "739a5254",
   "metadata": {},
   "source": [
    "knn"
   ]
  },
  {
   "cell_type": "code",
   "execution_count": null,
   "id": "cfee5c05",
   "metadata": {},
   "outputs": [],
   "source": [
    "from sklearn.neighbors import KNeighborsClassifier"
   ]
  },
  {
   "cell_type": "code",
   "execution_count": null,
   "id": "473c4f69",
   "metadata": {},
   "outputs": [],
   "source": [
    "knn=KNeighborsClassifier(n_neighbors=5) # creating model for 5 neighbors\n",
    "knn.fit(X_train,y_train)"
   ]
  },
  {
   "cell_type": "code",
   "execution_count": null,
   "id": "2d2b0886",
   "metadata": {},
   "outputs": [],
   "source": [
    "pkl_filename = r'C:\\Users\\bonik\\Downloads\\Network-Intrusion-Detection-Using-Machine-Learning-master\\Network-Intrusion-Detection-Using-Machine-Learning-master\\models\\knn_binary.pkl'\n",
    "if (not path.isfile(pkl_filename)):\n",
    "  # saving the trained model to disk\n",
    "  with open(pkl_filename, 'wb') as file:\n",
    "    pickle.dump(knn, file)\n",
    "  print(\"Saved model to disk\")\n",
    "  # loading the trained model from disk\n",
    "  with open(pkl_filename, 'rb') as file:\n",
    "    knn = pickle.load(file)\n",
    "  print(\"Loaded model from disk\")"
   ]
  },
  {
   "cell_type": "code",
   "execution_count": null,
   "id": "f6f585d6",
   "metadata": {},
   "outputs": [],
   "source": [
    "y_pred=knn.predict(X_test) # predicting target attribute on testing dataset\n",
    "ac=accuracy_score(y_test, y_pred)*100 # calculating accuracy of predicted data\n",
    "print(\"KNN-Classifier Binary Set-Accuracy is \", ac)"
   ]
  },
  {
   "cell_type": "code",
   "execution_count": null,
   "id": "a2540e98",
   "metadata": {},
   "outputs": [],
   "source": [
    "print(classification_report(y_test, y_pred,target_names=le1_classes_))"
   ]
  },
  {
   "cell_type": "markdown",
   "id": "899b6dc4",
   "metadata": {},
   "source": [
    "IDA"
   ]
  },
  {
   "cell_type": "code",
   "execution_count": null,
   "id": "c4699e3a",
   "metadata": {},
   "outputs": [],
   "source": [
    "from sklearn.discriminant_analysis import LinearDiscriminantAnalysis"
   ]
  },
  {
   "cell_type": "code",
   "execution_count": null,
   "id": "c75cdabd",
   "metadata": {},
   "outputs": [],
   "source": [
    "lda = LinearDiscriminantAnalysis() \n",
    "lda.fit(X_train, y_train)"
   ]
  },
  {
   "cell_type": "code",
   "execution_count": null,
   "id": "0a2bd318",
   "metadata": {},
   "outputs": [],
   "source": [
    "pkl_filename = r'C:\\Users\\bonik\\Downloads\\Network-Intrusion-Detection-Using-Machine-Learning-master\\Network-Intrusion-Detection-Using-Machine-Learning-master\\models\\lda_binary.pkl'\n",
    "if (not path.isfile(pkl_filename)):\n",
    "  # saving trained model to disk\n",
    "  with open(pkl_filename, 'wb') as file:\n",
    "    pickle.dump(lda, file)\n",
    "  print(\"Saved model to disk\")\n",
    "  # loading trained model from disk\n",
    "  with open(pkl_filename, 'rb') as file:\n",
    "    lda = pickle.load(file)\n",
    "  print(\"Loaded model from disk\")"
   ]
  },
  {
   "cell_type": "code",
   "execution_count": null,
   "id": "16abb9e9",
   "metadata": {},
   "outputs": [],
   "source": [
    "y_pred = lda.predict(X_test) # predicting target attribute on testing dataset\n",
    "ac=accuracy_score(y_test, y_pred)*100 # calculating accuracy of predicted data\n",
    "print(\"LDA-Classifier Set-Accuracy is \", ac)"
   ]
  },
  {
   "cell_type": "code",
   "execution_count": null,
   "id": "8d35695f",
   "metadata": {},
   "outputs": [],
   "source": [
    "print(classification_report(y_test, y_pred,target_names=le1_classes_))"
   ]
  },
  {
   "cell_type": "markdown",
   "id": "72b5818a",
   "metadata": {},
   "source": [
    "MLP"
   ]
  },
  {
   "cell_type": "code",
   "execution_count": null,
   "id": "1578d3a3",
   "metadata": {},
   "outputs": [],
   "source": [
    "from keras.layers import Dense # importing dense layer\n",
    "from keras.models import Sequential #importing Sequential layer\n",
    "from keras.models import model_from_json # saving and loading trained model"
   ]
  },
  {
   "cell_type": "code",
   "execution_count": null,
   "id": "e8eafff5",
   "metadata": {},
   "outputs": [],
   "source": [
    "X = bin_data.iloc[:,0:93].values # dataset excluding target attribute (encoded, one-hot-encoded,original)\n",
    "Y = bin_data[['intrusion']].values # target attribute"
   ]
  },
  {
   "cell_type": "code",
   "execution_count": null,
   "id": "94e50b24",
   "metadata": {},
   "outputs": [],
   "source": [
    "# splitting the dataset 75% for training and 25% testing\n",
    "X_train, X_test, y_train, y_test = train_test_split(X,Y, test_size=0.25, random_state=42)"
   ]
  },
  {
   "cell_type": "code",
   "execution_count": null,
   "id": "517443f6",
   "metadata": {},
   "outputs": [],
   "source": [
    "mlp = Sequential() # creating model\n",
    "\n",
    "# adding input layer and first layer with 50 neurons\n",
    "mlp.add(Dense(units=50, input_dim=X_train.shape[1], activation='relu'))\n",
    "# output layer with sigmoid activation\n",
    "mlp.add(Dense(units=1,activation='sigmoid'))"
   ]
  },
  {
   "cell_type": "code",
   "execution_count": null,
   "id": "f71cd43a",
   "metadata": {},
   "outputs": [],
   "source": [
    "mlp.compile(loss='binary_crossentropy', optimizer='adam', metrics=['accuracy'])"
   ]
  },
  {
   "cell_type": "code",
   "execution_count": null,
   "id": "fc8f4ef5",
   "metadata": {},
   "outputs": [],
   "source": [
    "mlp.summary()"
   ]
  },
  {
   "cell_type": "code",
   "execution_count": null,
   "id": "0287443d",
   "metadata": {},
   "outputs": [],
   "source": [
    "history = mlp.fit(X_train, y_train, epochs=100, batch_size=5000,validation_split=0.2)"
   ]
  },
  {
   "cell_type": "code",
   "execution_count": null,
   "id": "5a074158",
   "metadata": {},
   "outputs": [],
   "source": [
    "filepath = r'C:\\Users\\bonik\\Downloads\\Network-Intrusion-Detection-Using-Machine-Learning-master\\Network-Intrusion-Detection-Using-Machine-Learning-master\\models\\mlp_binary.json'\n",
    "weightspath = r'C:\\Users\\bonik\\Downloads\\Network-Intrusion-Detection-Using-Machine-Learning-master\\Network-Intrusion-Detection-Using-Machine-Learning-master\\weights\\mlp_binary.h5'\n",
    "if (not path.isfile(filepath)):\n",
    "  # serialize model to JSON\n",
    "  mlp_json = mlp.to_json()\n",
    "  with open(filepath, \"w\") as json_file:\n",
    "    json_file.write(mlp_json)\n",
    "\n",
    "  # serialize weights to HDF5\n",
    "  mlp.save_weights(weightspath)\n",
    "  print(\"Saved model to disk\")\n",
    "\n",
    "  # load json and create model\n",
    "  json_file = open(filepath, 'r')\n",
    "  loaded_model_json = json_file.read()\n",
    "  json_file.close()\n",
    "  mlp = model_from_json(loaded_model_json)\n",
    "\n",
    "  # load weights into new model\n",
    "  mlp.load_weights(weightspath)\n",
    "  print(\"Loaded model from disk\")"
   ]
  },
  {
   "cell_type": "code",
   "execution_count": null,
   "id": "f6770ef0",
   "metadata": {},
   "outputs": [],
   "source": [
    "mlp.compile(loss='binary_crossentropy', optimizer='adam', metrics=['accuracy'])"
   ]
  },
  {
   "cell_type": "code",
   "execution_count": null,
   "id": "d9d4f4a0",
   "metadata": {},
   "outputs": [],
   "source": [
    "test_results = mlp.evaluate(X_test, y_test, verbose=1)\n",
    "print(f'Test results - Loss: {test_results[0]} - Accuracy: {test_results[1]*100}')"
   ]
  },
  {
   "cell_type": "code",
   "execution_count": null,
   "id": "578a40cd",
   "metadata": {},
   "outputs": [],
   "source": [
    "plt.plot(history.history['accuracy'])\n",
    "plt.plot(history.history['val_accuracy'])\n",
    "plt.title(\"Plot of accuracy vs epoch for train and test dataset\")\n",
    "plt.ylabel('accuracy')\n",
    "plt.xlabel('epoch')\n",
    "plt.legend(['train', 'test'], loc='best')\n",
    "plt.savefig(r'C:\\Users\\bonik\\Downloads\\Network-Intrusion-Detection-Using-Machine-Learning-master\\Network-Intrusion-Detection-Using-Machine-Learning-master\\plots\\mlp_binary_accuracy.png')\n",
    "plt.show()"
   ]
  },
  {
   "cell_type": "code",
   "execution_count": null,
   "id": "8f1d45dc",
   "metadata": {},
   "outputs": [],
   "source": [
    "plt.plot(history.history['loss'])\n",
    "plt.plot(history.history['val_loss'])\n",
    "plt.title('Plot of loss vs epoch for train and test dataset')\n",
    "plt.ylabel('loss')\n",
    "plt.xlabel('epoch')\n",
    "plt.legend(['train', 'test'], loc='best')\n",
    "plt.savefig(r'C:\\Users\\bonik\\Downloads\\Network-Intrusion-Detection-Using-Machine-Learning-master\\Network-Intrusion-Detection-Using-Machine-Learning-master\\plots\\mlp_binary_loss.png')\n",
    "plt.show()"
   ]
  },
  {
   "cell_type": "markdown",
   "id": "b9590413",
   "metadata": {},
   "source": [
    "lstm"
   ]
  },
  {
   "cell_type": "code",
   "execution_count": null,
   "id": "7e6c9ecf",
   "metadata": {},
   "outputs": [],
   "source": [
    "from keras.layers import LSTM"
   ]
  },
  {
   "cell_type": "code",
   "execution_count": null,
   "id": "4c124e00",
   "metadata": {},
   "outputs": [],
   "source": [
    "X = bin_data.iloc[:,0:93] # dataset excluding target attribute (encoded, one-hot-encoded,original)\n",
    "Y = bin_data[['intrusion']].values "
   ]
  },
  {
   "cell_type": "code",
   "execution_count": null,
   "id": "89dcb696",
   "metadata": {},
   "outputs": [],
   "source": [
    "X_train, X_test, y_train, y_test = train_test_split(X,Y, test_size=0.25, random_state=42)"
   ]
  },
  {
   "cell_type": "code",
   "execution_count": null,
   "id": "3d89bcca",
   "metadata": {},
   "outputs": [],
   "source": [
    "X_train = X_train.to_numpy()"
   ]
  },
  {
   "cell_type": "code",
   "execution_count": null,
   "id": "24c3077e",
   "metadata": {},
   "outputs": [],
   "source": [
    "x_train = np.reshape(X_train, (X_train.shape[0],X_train.shape[1],1))"
   ]
  },
  {
   "cell_type": "code",
   "execution_count": null,
   "id": "0e7b302a",
   "metadata": {},
   "outputs": [],
   "source": [
    "lst = Sequential() # initializing model\n",
    "\n",
    "# input layer and LSTM layer with 50 neurons\n",
    "lst.add(LSTM(units=50, return_sequences=True, input_shape=(x_train.shape[1],1)))\n",
    "# outpute layer with sigmoid activation\n",
    "lst.add(Dense(1, activation='sigmoid'))"
   ]
  },
  {
   "cell_type": "code",
   "execution_count": null,
   "id": "a63e628c",
   "metadata": {},
   "outputs": [],
   "source": [
    "lst.compile(loss='binary_crossentropy',optimizer='adam',metrics=['accuracy'])"
   ]
  },
  {
   "cell_type": "code",
   "execution_count": null,
   "id": "17fc5b0a",
   "metadata": {},
   "outputs": [],
   "source": [
    "lst.summary()"
   ]
  },
  {
   "cell_type": "code",
   "execution_count": null,
   "id": "369e07b2",
   "metadata": {},
   "outputs": [],
   "source": [
    "history = lst.fit(x_train, y_train, epochs=100, batch_size=5000,validation_split=0.2)"
   ]
  },
  {
   "cell_type": "code",
   "execution_count": null,
   "id": "7c03ea12",
   "metadata": {},
   "outputs": [],
   "source": [
    "filepath = r'C:\\Users\\bonik\\Downloads\\Network-Intrusion-Detection-Using-Machine-Learning-master\\Network-Intrusion-Detection-Using-Machine-Learning-master\\models\\lst_binary.json'\n",
    "weightspath = r'C:\\Users\\bonik\\Downloads\\Network-Intrusion-Detection-Using-Machine-Learning-master\\Network-Intrusion-Detection-Using-Machine-Learning-master\\weights\\lst_binary.h5'\n",
    "if (not path.isfile(filepath)): \n",
    "  # serialize model to JSON\n",
    "  autoencoder_json = autoencoder.to_json()\n",
    "  with open(filepath, \"w\") as json_file:\n",
    "    json_file.write(autoencoder_json)\n",
    "\n",
    "  # serialize weights to HDF5\n",
    "  autoencoder.save_weights(weightspath)\n",
    "  print(\"Saved model to disk\")\n",
    "\n",
    "  # load json and create model\n",
    "  json_file = open(filepath, 'r')\n",
    "  loaded_model_json = json_file.read()\n",
    "  json_file.close()\n",
    "  autoencoder = model_from_json(loaded_model_json)\n",
    "\n",
    "  # load weights into new model\n",
    "  autoencoder.load_weights(weightspath)\n",
    "  print(\"Loaded model from disk\")"
   ]
  },
  {
   "cell_type": "code",
   "execution_count": null,
   "id": "11e91058",
   "metadata": {},
   "outputs": [],
   "source": [
    "lst.compile(loss='binary_crossentropy', optimizer='adam', metrics=['accuracy'])"
   ]
  },
  {
   "cell_type": "code",
   "execution_count": null,
   "id": "9a57e81c",
   "metadata": {},
   "outputs": [],
   "source": [
    "test_results = lst.evaluate(X_test, X_test, verbose=1)\n",
    "print(f'Test results - Loss: {test_results[0]} - Accuracy: {test_results[1]*100}')"
   ]
  },
  {
   "cell_type": "code",
   "execution_count": null,
   "id": "f2b97365",
   "metadata": {},
   "outputs": [],
   "source": [
    "plt.plot(history['loss'])\n",
    "plt.plot(history['val_loss'])\n",
    "plt.title(\"Plot of loss vs epoch for train and test dataset\")\n",
    "plt.ylabel('loss')\n",
    "plt.xlabel('epoch')\n",
    "plt.legend(['train', 'test'], loc='upper right')\n",
    "plt.savefig(r'C:\\Users\\bonik\\Downloads\\Network-Intrusion-Detection-Using-Machine-Learning-master\\Network-Intrusion-Detection-Using-Machine-Learning-master\\plots\\lstm_binary_loss.png')\n",
    "plt.show()"
   ]
  },
  {
   "cell_type": "code",
   "execution_count": null,
   "id": "a2903d35",
   "metadata": {},
   "outputs": [],
   "source": [
    "plt.plot(history['accuracy'])\n",
    "plt.plot(history['val_accuracy'])\n",
    "plt.title(\"Plot of accuracy vs epoch for train and test dataset\")\n",
    "plt.ylabel('accuracy')\n",
    "plt.xlabel('epoch')\n",
    "plt.legend(['train', 'test'], loc='best')\n",
    "plt.savefig(r'C:\\Users\\bonik\\Downloads\\Network-Intrusion-Detection-Using-Machine-Learning-master\\Network-Intrusion-Detection-Using-Machine-Learning-master\\plots\\lstm_binary_accuracy.png')\n",
    "plt.show()"
   ]
  },
  {
   "cell_type": "markdown",
   "id": "659d0c7e",
   "metadata": {},
   "source": [
    "auto encoder"
   ]
  },
  {
   "cell_type": "code",
   "execution_count": null,
   "id": "115b8cfd",
   "metadata": {},
   "outputs": [],
   "source": [
    "from keras.layers import Input\n",
    "from keras.models import Model"
   ]
  },
  {
   "cell_type": "code",
   "execution_count": null,
   "id": "7b1af269",
   "metadata": {},
   "outputs": [],
   "source": [
    "X_train, X_test = train_test_split(bin_data, test_size=0.25, random_state=42)"
   ]
  },
  {
   "cell_type": "code",
   "execution_count": null,
   "id": "9fdec315",
   "metadata": {},
   "outputs": [],
   "source": [
    "X_train = X_train.drop(['intrusion','abnormal','normal','label'],axis=1) \n",
    "\n",
    "y_test = X_test['intrusion'] # target attribute\n",
    "\n",
    "# dataset excluding target attribute (encoded, one-hot-encoded,original)\n",
    "X_test = X_test.drop(['intrusion','abnormal','normal','label'],axis=1)"
   ]
  },
  {
   "cell_type": "code",
   "execution_count": null,
   "id": "392e97c3",
   "metadata": {},
   "outputs": [],
   "source": [
    "X_train = X_train.values\n",
    "X_test = X_test.values\n",
    "y_test = y_test.values"
   ]
  },
  {
   "cell_type": "code",
   "execution_count": null,
   "id": "c67d3bb9",
   "metadata": {},
   "outputs": [],
   "source": [
    "input_dim = X_train.shape[1]\n",
    "encoding_dim = 50\n",
    "\n",
    "#input layer\n",
    "input_layer = Input(shape=(input_dim, ))\n",
    "#encoding layer with 50 neurons\n",
    "encoder = Dense(encoding_dim, activation=\"relu\")(input_layer)           \n",
    "#decoding and output layer\n",
    "output_layer = Dense(input_dim, activation='softmax')(encoder)"
   ]
  },
  {
   "cell_type": "code",
   "execution_count": null,
   "id": "d51bc103",
   "metadata": {},
   "outputs": [],
   "source": [
    "autoencoder = Model(inputs=input_layer, outputs=output_layer)\n",
    "\n",
    "# defining loss function, optimizer, metrics and then compiling model\n",
    "autoencoder.compile(optimizer='adam', loss='mean_squared_error',metrics=['accuracy'])"
   ]
  },
  {
   "cell_type": "code",
   "execution_count": null,
   "id": "bb789af8",
   "metadata": {},
   "outputs": [],
   "source": [
    "autoencoder.summary()"
   ]
  },
  {
   "cell_type": "code",
   "execution_count": null,
   "id": "648b3249",
   "metadata": {},
   "outputs": [],
   "source": [
    "history = autoencoder.fit(X_train, X_train, epochs=100,batch_size=500,validation_data=(X_test, X_test)).history"
   ]
  },
  {
   "cell_type": "code",
   "execution_count": null,
   "id": "1463cc87",
   "metadata": {},
   "outputs": [],
   "source": [
    "filepath = r'C:\\Users\\bonik\\Downloads\\Network-Intrusion-Detection-Using-Machine-Learning-master\\Network-Intrusion-Detection-Using-Machine-Learning-master\\models\\ae_binary.json'\n",
    "weightspath = r'C:\\Users\\bonik\\Downloads\\Network-Intrusion-Detection-Using-Machine-Learning-master\\Network-Intrusion-Detection-Using-Machine-Learning-master\\weights\\ae_binary.h5'\n",
    "if (not path.isfile(filepath)): \n",
    "  # serialize model to JSON\n",
    "  autoencoder_json = autoencoder.to_json()\n",
    "  with open(filepath, \"w\") as json_file:\n",
    "    json_file.write(autoencoder_json)\n",
    "\n",
    "  # serialize weights to HDF5\n",
    "  autoencoder.save_weights(weightspath)\n",
    "  print(\"Saved model to disk\")\n",
    "\n",
    "  # load json and create model\n",
    "  json_file = open(filepath, 'r')\n",
    "  loaded_model_json = json_file.read()\n",
    "  json_file.close()\n",
    "  autoencoder = model_from_json(loaded_model_json)\n",
    "\n",
    "  # load weights into new model\n",
    "  autoencoder.load_weights(weightspath)\n",
    "  print(\"Loaded model from disk\")"
   ]
  },
  {
   "cell_type": "code",
   "execution_count": null,
   "id": "625c24e4",
   "metadata": {},
   "outputs": [],
   "source": [
    "autoencoder.compile(optimizer='adam', loss='mean_squared_error',metrics=['accuracy'])"
   ]
  },
  {
   "cell_type": "code",
   "execution_count": null,
   "id": "246a4bfc",
   "metadata": {},
   "outputs": [],
   "source": [
    "test_results = autoencoder.evaluate(X_test, X_test, verbose=1)\n",
    "print(f'Test results - Loss: {test_results[0]} - Accuracy: {test_results[1]}%')"
   ]
  },
  {
   "cell_type": "code",
   "execution_count": null,
   "id": "c9656e74",
   "metadata": {},
   "outputs": [],
   "source": [
    "plt.plot(history['loss'])\n",
    "plt.plot(history['val_loss'])\n",
    "plt.title(\"Plot of loss vs epoch for train and test dataset\")\n",
    "plt.ylabel('loss')\n",
    "plt.xlabel('epoch')\n",
    "plt.legend(['train', 'test'], loc='upper right')\n",
    "plt.savefig(r'C:\\Users\\bonik\\Downloads\\Network-Intrusion-Detection-Using-Machine-Learning-master\\Network-Intrusion-Detection-Using-Machine-Learning-master\\plots\\ae_binary_loss.png')\n",
    "plt.show()"
   ]
  },
  {
   "cell_type": "code",
   "execution_count": null,
   "id": "7db3b048",
   "metadata": {},
   "outputs": [],
   "source": [
    "plt.plot(history['accuracy'])\n",
    "plt.plot(history['val_accuracy'])\n",
    "plt.title(\"Plot of accuracy vs epoch for train and test dataset\")\n",
    "plt.ylabel('accuracy')\n",
    "plt.xlabel('epoch')\n",
    "plt.legend(['train', 'test'], loc='best')\n",
    "plt.savefig(r'C:\\Users\\bonik\\Downloads\\Network-Intrusion-Detection-Using-Machine-Learning-master\\Network-Intrusion-Detection-Using-Machine-Learning-master\\plots\\ae_binary_accuracy.png')\n",
    "plt.show()"
   ]
  },
  {
   "cell_type": "code",
   "execution_count": null,
   "id": "a8e1694c",
   "metadata": {},
   "outputs": [],
   "source": [
    "predictions = autoencoder.predict(X_test)"
   ]
  },
  {
   "cell_type": "code",
   "execution_count": null,
   "id": "e5ce5afb",
   "metadata": {},
   "outputs": [],
   "source": [
    "mse = np.mean(np.power(X_test - predictions, 2), axis=1)\n",
    "error_df = pd.DataFrame({'reconstruction_error': mse,\n",
    "                        'true_class': y_test})"
   ]
  },
  {
   "cell_type": "code",
   "execution_count": null,
   "id": "cde7357f",
   "metadata": {},
   "outputs": [],
   "source": [
    "error_df.describe()"
   ]
  },
  {
   "cell_type": "code",
   "execution_count": null,
   "id": "23772f89",
   "metadata": {},
   "outputs": [],
   "source": []
  },
  {
   "cell_type": "code",
   "execution_count": null,
   "id": "f3d00d71",
   "metadata": {},
   "outputs": [],
   "source": []
  }
 ],
 "metadata": {
  "kernelspec": {
   "display_name": "Python 3 (ipykernel)",
   "language": "python",
   "name": "python3"
  },
  "language_info": {
   "codemirror_mode": {
    "name": "ipython",
    "version": 3
   },
   "file_extension": ".py",
   "mimetype": "text/x-python",
   "name": "python",
   "nbconvert_exporter": "python",
   "pygments_lexer": "ipython3",
   "version": "3.11.5"
  }
 },
 "nbformat": 4,
 "nbformat_minor": 5
}
